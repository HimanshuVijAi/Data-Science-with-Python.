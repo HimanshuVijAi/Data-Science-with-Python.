{
 "cells": [
  {
   "cell_type": "markdown",
   "id": "59827409",
   "metadata": {},
   "source": [
    "***Q1.Swap two columns in a 2D array.***"
   ]
  },
  {
   "cell_type": "code",
   "execution_count": 1,
   "id": "959d4314",
   "metadata": {},
   "outputs": [],
   "source": [
    "import numpy as np"
   ]
  },
  {
   "cell_type": "code",
   "execution_count": 2,
   "id": "b59113a0",
   "metadata": {},
   "outputs": [
    {
     "data": {
      "text/plain": [
       "array([[2, 1],\n",
       "       [5, 4],\n",
       "       [8, 7]])"
      ]
     },
     "execution_count": 2,
     "metadata": {},
     "output_type": "execute_result"
    }
   ],
   "source": [
    "y = np.array([[1, 2],\n",
    "              [4, 5],\n",
    "              [7, 8]])\n",
    "\n",
    "y[:,[0,1]] = y[:,[1,0]]\n",
    "y"
   ]
  },
  {
   "cell_type": "markdown",
   "id": "e3dbce0a",
   "metadata": {},
   "source": [
    "***Q2.Swap two rows in a 2D array.***"
   ]
  },
  {
   "cell_type": "code",
   "execution_count": 3,
   "id": "750edf98",
   "metadata": {
    "scrolled": true
   },
   "outputs": [
    {
     "data": {
      "text/plain": [
       "array([[1, 2, 3],\n",
       "       [4, 5, 6]])"
      ]
     },
     "execution_count": 3,
     "metadata": {},
     "output_type": "execute_result"
    }
   ],
   "source": [
    "u = np.array([[1,2,3],\n",
    "              [4,5,6]])\n",
    "\n",
    "u[[0,1],:] = u[[0,1],:]\n",
    "u"
   ]
  },
  {
   "cell_type": "markdown",
   "id": "3df61971",
   "metadata": {},
   "source": [
    "***Q3.Reverse all the rows of a 2D array.***"
   ]
  },
  {
   "cell_type": "code",
   "execution_count": 4,
   "id": "88d60bcb",
   "metadata": {},
   "outputs": [
    {
     "data": {
      "text/plain": [
       "array([[1, 2, 3],\n",
       "       [4, 5, 6]])"
      ]
     },
     "execution_count": 4,
     "metadata": {},
     "output_type": "execute_result"
    }
   ],
   "source": [
    "x = np.array([[3,2,1],\n",
    "              [6,5,4]])\n",
    "\n",
    "x[:,[0,1,2]] = x[:,[2,1,0]]\n",
    "x"
   ]
  },
  {
   "cell_type": "code",
   "execution_count": 5,
   "id": "b395ef12",
   "metadata": {},
   "outputs": [
    {
     "data": {
      "text/plain": [
       "array([[1, 2, 3],\n",
       "       [4, 5, 6]])"
      ]
     },
     "execution_count": 5,
     "metadata": {},
     "output_type": "execute_result"
    }
   ],
   "source": [
    "e = np.array([[3,2,1],\n",
    "              [6,5,4]])\n",
    "\n",
    "e = e[:,::-1]\n",
    "e"
   ]
  },
  {
   "cell_type": "markdown",
   "id": "a05b847c",
   "metadata": {},
   "source": [
    "***Q4.Extract all numbers between a given range from a one dimensional ndarray.***"
   ]
  },
  {
   "cell_type": "code",
   "execution_count": 6,
   "id": "2f60eed8",
   "metadata": {},
   "outputs": [
    {
     "data": {
      "text/plain": [
       "array([7, 6, 5, 5, 4])"
      ]
     },
     "execution_count": 6,
     "metadata": {},
     "output_type": "execute_result"
    }
   ],
   "source": [
    "y = np.array([1,3,2,55,7,3,63,63,6,3,5,5,4])           \n",
    "y = np.array([i for i in y if 4<=i<=10])\n",
    "y"
   ]
  },
  {
   "cell_type": "code",
   "execution_count": 7,
   "id": "9c3b0465",
   "metadata": {},
   "outputs": [
    {
     "data": {
      "text/plain": [
       "[7, 6, 5, 5, 4]"
      ]
     },
     "execution_count": 7,
     "metadata": {},
     "output_type": "execute_result"
    }
   ],
   "source": [
    "y = np.array([1,3,2,55,7,3,63,63,6,3,5,5,4]) \n",
    "lst = []\n",
    "for i in y:\n",
    "    if 4<=i<=10:\n",
    "        lst.append(i)\n",
    "lst    "
   ]
  },
  {
   "cell_type": "code",
   "execution_count": 8,
   "id": "40beaa39",
   "metadata": {},
   "outputs": [
    {
     "data": {
      "text/plain": [
       "array([2, 5, 6, 3, 4])"
      ]
     },
     "execution_count": 8,
     "metadata": {},
     "output_type": "execute_result"
    }
   ],
   "source": [
    "# Method 2\n",
    "t = np.array([1,2,34,5,22,6,78,3,78,4])\n",
    "t[(t >= 2) * (t <= 6)]"
   ]
  },
  {
   "cell_type": "code",
   "execution_count": 9,
   "id": "c1e37e2b",
   "metadata": {},
   "outputs": [
    {
     "data": {
      "text/plain": [
       "array([34,  5, 22,  6, 78, 78,  4])"
      ]
     },
     "execution_count": 9,
     "metadata": {},
     "output_type": "execute_result"
    }
   ],
   "source": [
    "t[t>=4]"
   ]
  },
  {
   "cell_type": "code",
   "execution_count": 10,
   "id": "cffe8d77",
   "metadata": {},
   "outputs": [
    {
     "data": {
      "text/plain": [
       "array([False, False,  True,  True,  True,  True,  True, False,  True,\n",
       "        True])"
      ]
     },
     "execution_count": 10,
     "metadata": {},
     "output_type": "execute_result"
    }
   ],
   "source": [
    "t>=4"
   ]
  },
  {
   "cell_type": "markdown",
   "id": "79065643",
   "metadata": {},
   "source": [
    "***Q5.Given a list of words, find the words with atleast 2 vowels.***"
   ]
  },
  {
   "cell_type": "code",
   "execution_count": 11,
   "id": "045d7800",
   "metadata": {},
   "outputs": [],
   "source": [
    "lst = [\"Hello\",\"World\",\"Python\",\"Data Science\"]\n",
    "vowels_words = []\n",
    "for x in lst:\n",
    "    count = 0\n",
    "    for i in x:\n",
    "        if i in \"aeiouAEIOU\":\n",
    "            count = count + 1        # count +=1\n",
    "    if count>=2:\n",
    "        vowels_words.append(x)"
   ]
  },
  {
   "cell_type": "code",
   "execution_count": 12,
   "id": "0cb34a2c",
   "metadata": {},
   "outputs": [
    {
     "data": {
      "text/plain": [
       "['Hello', 'Data Science']"
      ]
     },
     "execution_count": 12,
     "metadata": {},
     "output_type": "execute_result"
    }
   ],
   "source": [
    "vowels_words"
   ]
  }
 ],
 "metadata": {
  "kernelspec": {
   "display_name": "Python 3 (ipykernel)",
   "language": "python",
   "name": "python3"
  },
  "language_info": {
   "codemirror_mode": {
    "name": "ipython",
    "version": 3
   },
   "file_extension": ".py",
   "mimetype": "text/x-python",
   "name": "python",
   "nbconvert_exporter": "python",
   "pygments_lexer": "ipython3",
   "version": "3.10.9"
  }
 },
 "nbformat": 4,
 "nbformat_minor": 5
}
