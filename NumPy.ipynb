{
  "nbformat": 4,
  "nbformat_minor": 0,
  "metadata": {
    "colab": {
      "provenance": [],
      "collapsed_sections": [
        "-OpAhJ-cDOp3",
        "yKlRit_u2uJj",
        "1xyepp-17mre",
        "BkG93tTwU57R",
        "FGGDuAUPnbVx",
        "Qz799Fot9vAw",
        "zagb-yb7MW01",
        "zKVDfHxxlD1h"
      ]
    },
    "kernelspec": {
      "name": "python3",
      "display_name": "Python 3"
    },
    "language_info": {
      "name": "python"
    }
  },
  "cells": [
    {
      "cell_type": "markdown",
      "source": [
        "# How To Create An Array."
      ],
      "metadata": {
        "id": "-OpAhJ-cDOp3"
      }
    },
    {
      "cell_type": "code",
      "execution_count": null,
      "metadata": {
        "colab": {
          "base_uri": "https://localhost:8080/"
        },
        "id": "x4ZJ5iYkXILX",
        "outputId": "8ff25046-ccca-4638-c56f-4bffd9bd1f06"
      },
      "outputs": [
        {
          "output_type": "execute_result",
          "data": {
            "text/plain": [
              "array([1, 2, 3, 4, 5])"
            ]
          },
          "metadata": {},
          "execution_count": 1
        }
      ],
      "source": [
        "# importing numpy\n",
        "import numpy as np\n",
        "arr = np.array([1,2,3,4,5])         # Creating an ndarray\n",
        "arr"
      ]
    },
    {
      "cell_type": "code",
      "source": [
        "arr = np.array({1,2,3,4,5})\n",
        "arr"
      ],
      "metadata": {
        "colab": {
          "base_uri": "https://localhost:8080/"
        },
        "id": "2VJFwjI-XYWS",
        "outputId": "9f8e86be-168b-482a-f3d9-457fda154c0f"
      },
      "execution_count": null,
      "outputs": [
        {
          "output_type": "execute_result",
          "data": {
            "text/plain": [
              "array({1, 2, 3, 4, 5}, dtype=object)"
            ]
          },
          "metadata": {},
          "execution_count": 2
        }
      ]
    },
    {
      "cell_type": "code",
      "source": [
        "arr = np.array({1:\"str\",2:\"hello\"})\n",
        "arr"
      ],
      "metadata": {
        "colab": {
          "base_uri": "https://localhost:8080/"
        },
        "id": "pdeocVtUXklO",
        "outputId": "4cac3c05-6358-4061-eb45-d21c51d4077b"
      },
      "execution_count": null,
      "outputs": [
        {
          "output_type": "execute_result",
          "data": {
            "text/plain": [
              "array({1: 'str', 2: 'hello'}, dtype=object)"
            ]
          },
          "metadata": {},
          "execution_count": 3
        }
      ]
    },
    {
      "cell_type": "code",
      "source": [
        "x = np.array([\"str\",\"hello\",\"world\"])\n",
        "x"
      ],
      "metadata": {
        "colab": {
          "base_uri": "https://localhost:8080/"
        },
        "id": "703vGOPAYgqp",
        "outputId": "8cb81033-36eb-4a32-ab62-0f0fb4c0b935"
      },
      "execution_count": null,
      "outputs": [
        {
          "output_type": "execute_result",
          "data": {
            "text/plain": [
              "array(['str', 'hello', 'world'], dtype='<U5')"
            ]
          },
          "metadata": {},
          "execution_count": 4
        }
      ]
    },
    {
      "cell_type": "code",
      "source": [
        "# Creating a zero-dimensional array\n",
        "import numpy as np\n",
        "arr = np.array(\"60\")\n",
        "print(arr)"
      ],
      "metadata": {
        "colab": {
          "base_uri": "https://localhost:8080/"
        },
        "id": "JXp-LdlOWdXs",
        "outputId": "3a20f39c-698b-444a-9f76-f6442a3ec9b2"
      },
      "execution_count": null,
      "outputs": [
        {
          "output_type": "stream",
          "name": "stdout",
          "text": [
            "60\n"
          ]
        }
      ]
    },
    {
      "cell_type": "code",
      "source": [
        "# Creating a one-dimensional array\n",
        "# Each value in a 1D array is 0d array\n",
        "import numpy as np\n",
        "arr = np.array ([10,20,30,40])\n",
        "print(arr)"
      ],
      "metadata": {
        "colab": {
          "base_uri": "https://localhost:8080/"
        },
        "id": "iSlPTa6XWwsO",
        "outputId": "65ac0357-5096-4d33-bc6a-b7563c6fd6a6"
      },
      "execution_count": null,
      "outputs": [
        {
          "output_type": "stream",
          "name": "stdout",
          "text": [
            "[10 20 30 40]\n"
          ]
        }
      ]
    },
    {
      "cell_type": "code",
      "source": [
        "# creating a 2d array\n",
        "# it has 1d array as its elements.\n",
        "import numpy as np\n",
        "arr = np.array ([[1,2,3,4],[5,6,7,8]])\n",
        "print(arr)"
      ],
      "metadata": {
        "colab": {
          "base_uri": "https://localhost:8080/"
        },
        "id": "vnCwhAhbXKFD",
        "outputId": "e3754711-3328-41e9-8dad-51567044d44f"
      },
      "execution_count": null,
      "outputs": [
        {
          "output_type": "stream",
          "name": "stdout",
          "text": [
            "[[1 2 3 4]\n",
            " [5 6 7 8]]\n"
          ]
        }
      ]
    },
    {
      "cell_type": "code",
      "source": [
        "# Creating a 3d array\n",
        "# it has 2D array as its elements.\n",
        "import numpy as np\n",
        "arr = np.array ([([1,2,3,4],[5,6,7,8]),([1,2,3,4],[5,6,7,8]),([1,2,3,4],[5,6,7,8])])\n",
        "\n",
        "print(arr)"
      ],
      "metadata": {
        "colab": {
          "base_uri": "https://localhost:8080/"
        },
        "id": "BviQaMyqXjfW",
        "outputId": "276de1f1-b3ce-4c04-bb4a-b7600703db6d"
      },
      "execution_count": null,
      "outputs": [
        {
          "output_type": "stream",
          "name": "stdout",
          "text": [
            "[[[1 2 3 4]\n",
            "  [5 6 7 8]]\n",
            "\n",
            " [[1 2 3 4]\n",
            "  [5 6 7 8]]\n",
            "\n",
            " [[1 2 3 4]\n",
            "  [5 6 7 8]]]\n"
          ]
        }
      ]
    },
    {
      "cell_type": "code",
      "source": [
        "# Creating a 4d array\n",
        "# it has 3d array ad its elements.\n",
        "import numpy as np\n",
        "arr = np.array ([[([1,2,3,4],[5,6,7,8]),([1,2,3,4],[5,6,7,8]),([1,2,3,4],[5,6,7,8]),([1,2,3,4],[5,6,7,8])]])\n",
        "\n",
        "print(arr)"
      ],
      "metadata": {
        "colab": {
          "base_uri": "https://localhost:8080/"
        },
        "id": "YYAzu7P_YgzI",
        "outputId": "eb37670c-58d8-4649-db8f-4e9c9137e38a"
      },
      "execution_count": null,
      "outputs": [
        {
          "output_type": "stream",
          "name": "stdout",
          "text": [
            "[[[[1 2 3 4]\n",
            "   [5 6 7 8]]\n",
            "\n",
            "  [[1 2 3 4]\n",
            "   [5 6 7 8]]\n",
            "\n",
            "  [[1 2 3 4]\n",
            "   [5 6 7 8]]\n",
            "\n",
            "  [[1 2 3 4]\n",
            "   [5 6 7 8]]]]\n"
          ]
        }
      ]
    },
    {
      "cell_type": "code",
      "source": [
        "np.array([[[1,2],[3,4],\n",
        "           [5,6],[6,7]],\n",
        "          [[4,5],[5,6],\n",
        "           [6,7],[7,8]]])"
      ],
      "metadata": {
        "colab": {
          "base_uri": "https://localhost:8080/"
        },
        "id": "mXT0FA7Ndz4w",
        "outputId": "e044c37e-2df6-4bc4-ca67-525a5c731b74"
      },
      "execution_count": null,
      "outputs": [
        {
          "output_type": "execute_result",
          "data": {
            "text/plain": [
              "array([[[1, 2],\n",
              "        [3, 4],\n",
              "        [5, 6],\n",
              "        [6, 7]],\n",
              "\n",
              "       [[4, 5],\n",
              "        [5, 6],\n",
              "        [6, 7],\n",
              "        [7, 8]]])"
            ]
          },
          "metadata": {},
          "execution_count": 31
        }
      ]
    },
    {
      "cell_type": "code",
      "source": [
        "# what could be the another way to create an array.\n",
        "y = [1,2,3,4]\n",
        "x = np.array(y)\n",
        "x"
      ],
      "metadata": {
        "colab": {
          "base_uri": "https://localhost:8080/"
        },
        "id": "XUKDHsfne2F2",
        "outputId": "23af3dc2-b1dd-4aa9-c948-ffd2f39eba3c"
      },
      "execution_count": null,
      "outputs": [
        {
          "output_type": "execute_result",
          "data": {
            "text/plain": [
              "array([1, 2, 3, 4])"
            ]
          },
          "metadata": {},
          "execution_count": 33
        }
      ]
    },
    {
      "cell_type": "code",
      "source": [
        "# what could be the another way to create an array.\n",
        "x = np.array(range(10))\n",
        "x"
      ],
      "metadata": {
        "colab": {
          "base_uri": "https://localhost:8080/"
        },
        "id": "xzV6SxS4f8X9",
        "outputId": "44d59fe0-106e-4ee7-c76d-99d78e023a74"
      },
      "execution_count": null,
      "outputs": [
        {
          "output_type": "execute_result",
          "data": {
            "text/plain": [
              "array([0, 1, 2, 3, 4, 5, 6, 7, 8, 9])"
            ]
          },
          "metadata": {},
          "execution_count": 37
        }
      ]
    },
    {
      "cell_type": "code",
      "source": [
        "x.ndim"
      ],
      "metadata": {
        "colab": {
          "base_uri": "https://localhost:8080/"
        },
        "id": "3P4P47u0gElv",
        "outputId": "5b536d02-9c52-442f-e66b-7c42a42b2e0b"
      },
      "execution_count": null,
      "outputs": [
        {
          "output_type": "execute_result",
          "data": {
            "text/plain": [
              "1"
            ]
          },
          "metadata": {},
          "execution_count": 38
        }
      ]
    },
    {
      "cell_type": "code",
      "source": [
        "# the game is all about Square brackets.\n",
        "# it will tell u the dimension on the basis of bracket.\n",
        "ar1 = np.array([[[[[[[[[[[[[[[[[[[[[[[[[[[[[[[[1,2]]]]]]]]]]]]]]]]]]]]]]]]]]]]]]]])\n",
        "ar1.ndim"
      ],
      "metadata": {
        "colab": {
          "base_uri": "https://localhost:8080/"
        },
        "id": "3xM6-BLRgmQn",
        "outputId": "ab439092-0aad-45a4-fefb-610361b720cc"
      },
      "execution_count": null,
      "outputs": [
        {
          "output_type": "execute_result",
          "data": {
            "text/plain": [
              "32"
            ]
          },
          "metadata": {},
          "execution_count": 10
        }
      ]
    },
    {
      "cell_type": "code",
      "source": [
        "my_arr = np.arange(10)\n",
        "my_arr"
      ],
      "metadata": {
        "colab": {
          "base_uri": "https://localhost:8080/"
        },
        "id": "RYxL-sADjGIF",
        "outputId": "ca7cda85-d625-4976-d80c-c583c34fd6ec"
      },
      "execution_count": null,
      "outputs": [
        {
          "output_type": "execute_result",
          "data": {
            "text/plain": [
              "array([0, 1, 2, 3, 4, 5, 6, 7, 8, 9])"
            ]
          },
          "metadata": {},
          "execution_count": 45
        }
      ]
    },
    {
      "cell_type": "code",
      "source": [
        "my_arr = np.arange(1000000)\n",
        "my_arr"
      ],
      "metadata": {
        "colab": {
          "base_uri": "https://localhost:8080/"
        },
        "id": "_C8ya0wOjHqx",
        "outputId": "ecd38160-42bc-4e4b-bc41-9d3f34c03545"
      },
      "execution_count": null,
      "outputs": [
        {
          "output_type": "execute_result",
          "data": {
            "text/plain": [
              "array([     0,      1,      2, ..., 999997, 999998, 999999])"
            ]
          },
          "metadata": {},
          "execution_count": 46
        }
      ]
    },
    {
      "cell_type": "code",
      "source": [
        "my_arr = np.arange(1000000)\n",
        "my_list = list(range(1000000))"
      ],
      "metadata": {
        "id": "McbX-GPnhX8n"
      },
      "execution_count": null,
      "outputs": []
    },
    {
      "cell_type": "code",
      "source": [
        "%timeit my_arr2 = my_arr * 2"
      ],
      "metadata": {
        "colab": {
          "base_uri": "https://localhost:8080/"
        },
        "id": "7LZUibRWipBz",
        "outputId": "09f13911-bb45-4803-9691-1d39c337b879"
      },
      "execution_count": null,
      "outputs": [
        {
          "output_type": "stream",
          "name": "stdout",
          "text": [
            "456 µs ± 119 µs per loop (mean ± std. dev. of 7 runs, 1000 loops each)\n"
          ]
        }
      ]
    },
    {
      "cell_type": "code",
      "source": [
        "%timeit my_list2 = [x*2 for x in my_list]"
      ],
      "metadata": {
        "colab": {
          "base_uri": "https://localhost:8080/"
        },
        "id": "X5ptaCkaiwMK",
        "outputId": "e2965d8b-86c0-4d8d-8c86-0a2049dc1001"
      },
      "execution_count": null,
      "outputs": [
        {
          "output_type": "stream",
          "name": "stdout",
          "text": [
            "48.9 ms ± 11.5 ms per loop (mean ± std. dev. of 7 runs, 10 loops each)\n"
          ]
        }
      ]
    },
    {
      "cell_type": "code",
      "source": [
        "x = np.array([\"str\",\"hello\",\"world\"])\n",
        "x"
      ],
      "metadata": {
        "id": "zdgWT2mvi6NI",
        "colab": {
          "base_uri": "https://localhost:8080/"
        },
        "outputId": "e8174270-773b-4d95-c98c-1a4e56ab6f32"
      },
      "execution_count": null,
      "outputs": [
        {
          "output_type": "execute_result",
          "data": {
            "text/plain": [
              "array(['str', 'hello', 'world'], dtype='<U5')"
            ]
          },
          "metadata": {},
          "execution_count": 2
        }
      ]
    },
    {
      "cell_type": "code",
      "source": [
        "x = np.array([\"str\",23,45.7,78j])\n",
        "x"
      ],
      "metadata": {
        "colab": {
          "base_uri": "https://localhost:8080/"
        },
        "id": "7R_-Zwf6-yUF",
        "outputId": "bda3efe2-f1b8-45b2-beab-31e8245716c3"
      },
      "execution_count": null,
      "outputs": [
        {
          "output_type": "execute_result",
          "data": {
            "text/plain": [
              "array(['str', '23', '45.7', '78j'], dtype='<U64')"
            ]
          },
          "metadata": {},
          "execution_count": 3
        }
      ]
    },
    {
      "cell_type": "code",
      "source": [
        "x = np.array([None])\n",
        "x"
      ],
      "metadata": {
        "colab": {
          "base_uri": "https://localhost:8080/"
        },
        "id": "CQzv13lM-5lo",
        "outputId": "3e127d10-9a57-43eb-a653-28d33b4b4a1a"
      },
      "execution_count": null,
      "outputs": [
        {
          "output_type": "execute_result",
          "data": {
            "text/plain": [
              "array([None], dtype=object)"
            ]
          },
          "metadata": {},
          "execution_count": 4
        }
      ]
    },
    {
      "cell_type": "code",
      "source": [
        "x = np.array([True,False])\n",
        "x"
      ],
      "metadata": {
        "colab": {
          "base_uri": "https://localhost:8080/"
        },
        "id": "BAOBQ9Ib--YS",
        "outputId": "1af826f0-c58a-4640-e996-d65f744f0fff"
      },
      "execution_count": null,
      "outputs": [
        {
          "output_type": "execute_result",
          "data": {
            "text/plain": [
              "array([ True, False])"
            ]
          },
          "metadata": {},
          "execution_count": 5
        }
      ]
    },
    {
      "cell_type": "markdown",
      "source": [
        "# Data Types In NumPy."
      ],
      "metadata": {
        "id": "yKlRit_u2uJj"
      }
    },
    {
      "cell_type": "code",
      "source": [
        "import numpy as np"
      ],
      "metadata": {
        "id": "H2S2aXI52zz1"
      },
      "execution_count": null,
      "outputs": []
    },
    {
      "cell_type": "code",
      "source": [
        "x = np.array([1,2,3,-78],dtype=\"object\")\n",
        "x,x.dtype"
      ],
      "metadata": {
        "colab": {
          "base_uri": "https://localhost:8080/"
        },
        "id": "XkAQADqc25i3",
        "outputId": "7121c40b-cbff-4cde-b153-34b5793f89f5"
      },
      "execution_count": null,
      "outputs": [
        {
          "output_type": "execute_result",
          "data": {
            "text/plain": [
              "(array([1, 2, 3, -78], dtype=object), dtype('O'))"
            ]
          },
          "metadata": {},
          "execution_count": 49
        }
      ]
    },
    {
      "cell_type": "code",
      "source": [
        "x = np.array([1,2,3,56],dtype=\"U\")\n",
        "x,x.dtype"
      ],
      "metadata": {
        "colab": {
          "base_uri": "https://localhost:8080/"
        },
        "id": "yjEYj5uT3Kax",
        "outputId": "a75d302a-f466-4833-e5d1-a1014bff1e0b"
      },
      "execution_count": null,
      "outputs": [
        {
          "output_type": "execute_result",
          "data": {
            "text/plain": [
              "(array(['1', '2', '3', '56'], dtype='<U2'), dtype('<U2'))"
            ]
          },
          "metadata": {},
          "execution_count": 50
        }
      ]
    },
    {
      "cell_type": "code",
      "source": [
        "x = np.array([1,2,3,-78],dtype=\"S\")\n",
        "x,x.dtype"
      ],
      "metadata": {
        "colab": {
          "base_uri": "https://localhost:8080/"
        },
        "id": "r4E31IAY3RIS",
        "outputId": "f23b2b3e-9a85-484b-954e-aa1eb0e38a44"
      },
      "execution_count": null,
      "outputs": [
        {
          "output_type": "execute_result",
          "data": {
            "text/plain": [
              "(array([b'1', b'2', b'3', b'-78'], dtype='|S3'), dtype('S3'))"
            ]
          },
          "metadata": {},
          "execution_count": 51
        }
      ]
    },
    {
      "cell_type": "code",
      "source": [
        "x = np.array([1,2,3,\"str\"],dtype=\"object\")\n",
        "x,x.dtype"
      ],
      "metadata": {
        "colab": {
          "base_uri": "https://localhost:8080/"
        },
        "id": "JpCEhIVg3YvF",
        "outputId": "e93fcce5-76ac-4fde-80db-fa62195c9bc6"
      },
      "execution_count": null,
      "outputs": [
        {
          "output_type": "execute_result",
          "data": {
            "text/plain": [
              "(array([1, 2, 3, 'str'], dtype=object), dtype('O'))"
            ]
          },
          "metadata": {},
          "execution_count": 52
        }
      ]
    },
    {
      "cell_type": "code",
      "source": [
        "x = np.array([1,2,3,56435555555555555555554566784266],dtype=\"int32\")\n",
        "x,x.dtype"
      ],
      "metadata": {
        "colab": {
          "base_uri": "https://localhost:8080/",
          "height": 193
        },
        "id": "A6sq2S3X4ayD",
        "outputId": "a80cd4ff-21c2-4fab-f845-5dd3a9843fb9"
      },
      "execution_count": null,
      "outputs": [
        {
          "output_type": "error",
          "ename": "OverflowError",
          "evalue": "ignored",
          "traceback": [
            "\u001b[0;31m---------------------------------------------------------------------------\u001b[0m",
            "\u001b[0;31mOverflowError\u001b[0m                             Traceback (most recent call last)",
            "\u001b[0;32m<ipython-input-53-f8e3e85db2c5>\u001b[0m in \u001b[0;36m<cell line: 1>\u001b[0;34m()\u001b[0m\n\u001b[0;32m----> 1\u001b[0;31m \u001b[0mx\u001b[0m \u001b[0;34m=\u001b[0m \u001b[0mnp\u001b[0m\u001b[0;34m.\u001b[0m\u001b[0marray\u001b[0m\u001b[0;34m(\u001b[0m\u001b[0;34m[\u001b[0m\u001b[0;36m1\u001b[0m\u001b[0;34m,\u001b[0m\u001b[0;36m2\u001b[0m\u001b[0;34m,\u001b[0m\u001b[0;36m3\u001b[0m\u001b[0;34m,\u001b[0m\u001b[0;36m564355555555555555555545673456784266\u001b[0m\u001b[0;34m]\u001b[0m\u001b[0;34m,\u001b[0m\u001b[0mdtype\u001b[0m\u001b[0;34m=\u001b[0m\u001b[0;34m\"int32\"\u001b[0m\u001b[0;34m)\u001b[0m\u001b[0;34m\u001b[0m\u001b[0;34m\u001b[0m\u001b[0m\n\u001b[0m\u001b[1;32m      2\u001b[0m \u001b[0mx\u001b[0m\u001b[0;34m,\u001b[0m\u001b[0mx\u001b[0m\u001b[0;34m.\u001b[0m\u001b[0mdtype\u001b[0m\u001b[0;34m\u001b[0m\u001b[0;34m\u001b[0m\u001b[0m\n",
            "\u001b[0;31mOverflowError\u001b[0m: Python int too large to convert to C long"
          ]
        }
      ]
    },
    {
      "cell_type": "code",
      "source": [
        "y = np.array([\"hello\",\"world\",\"dog\",\"cat\"],dtype=\"S\")\n",
        "y,y.dtype"
      ],
      "metadata": {
        "colab": {
          "base_uri": "https://localhost:8080/"
        },
        "id": "XhJRAh8J4kdS",
        "outputId": "5735528d-fa05-436b-c916-1e2f1d34ac85"
      },
      "execution_count": null,
      "outputs": [
        {
          "output_type": "execute_result",
          "data": {
            "text/plain": [
              "(array([b'hello', b'world', b'dog', b'cat'], dtype='|S5'), dtype('S5'))"
            ]
          },
          "metadata": {},
          "execution_count": 54
        }
      ]
    },
    {
      "cell_type": "code",
      "source": [
        "x = np.array([\"hello hi\",\"world\",\"deg\"])\n",
        "x"
      ],
      "metadata": {
        "colab": {
          "base_uri": "https://localhost:8080/"
        },
        "id": "7fZkT-Yb6IY6",
        "outputId": "fab91d87-51df-4cd3-f5f0-537944bcb043"
      },
      "execution_count": null,
      "outputs": [
        {
          "output_type": "execute_result",
          "data": {
            "text/plain": [
              "array(['hello hi', 'world', 'deg'], dtype='<U8')"
            ]
          },
          "metadata": {},
          "execution_count": 55
        }
      ]
    },
    {
      "cell_type": "code",
      "source": [
        "len(\"hello hi\")"
      ],
      "metadata": {
        "colab": {
          "base_uri": "https://localhost:8080/"
        },
        "id": "vLNln5Zy8_os",
        "outputId": "a035850b-c273-4dfd-a0b2-eec5583fe415"
      },
      "execution_count": null,
      "outputs": [
        {
          "output_type": "execute_result",
          "data": {
            "text/plain": [
              "8"
            ]
          },
          "metadata": {},
          "execution_count": 56
        }
      ]
    },
    {
      "cell_type": "markdown",
      "source": [
        "# NumPy Array Inspection."
      ],
      "metadata": {
        "id": "1xyepp-17mre"
      }
    },
    {
      "cell_type": "code",
      "source": [
        "import numpy as np"
      ],
      "metadata": {
        "id": "hq2nbqjc7qDn"
      },
      "execution_count": null,
      "outputs": []
    },
    {
      "cell_type": "code",
      "source": [
        "# ndarray.ndim  - Returns the no.of dimensions.\n",
        "x = np.array([[[[1,2],[4,5],[2,3],[5,6]]]])\n",
        "x.ndim"
      ],
      "metadata": {
        "colab": {
          "base_uri": "https://localhost:8080/"
        },
        "id": "IQYR_mAX7uF6",
        "outputId": "fefc3262-ab1e-4439-f576-15d9e51274cd"
      },
      "execution_count": null,
      "outputs": [
        {
          "output_type": "execute_result",
          "data": {
            "text/plain": [
              "4"
            ]
          },
          "metadata": {},
          "execution_count": 28
        }
      ]
    },
    {
      "cell_type": "code",
      "source": [
        "x"
      ],
      "metadata": {
        "colab": {
          "base_uri": "https://localhost:8080/"
        },
        "id": "HUP54IKp78Iy",
        "outputId": "f10d4eb9-5368-4e17-ebe1-94027fece211"
      },
      "execution_count": null,
      "outputs": [
        {
          "output_type": "execute_result",
          "data": {
            "text/plain": [
              "array([[[[1, 2],\n",
              "         [4, 5],\n",
              "         [2, 3],\n",
              "         [5, 6]]]])"
            ]
          },
          "metadata": {},
          "execution_count": 26
        }
      ]
    },
    {
      "cell_type": "code",
      "source": [
        "# ndarray.shape  - Returns the Shape.\n",
        "x.shape"
      ],
      "metadata": {
        "colab": {
          "base_uri": "https://localhost:8080/"
        },
        "id": "0pNeHqCO8DyZ",
        "outputId": "448eb035-3b52-4525-bcc2-6589653d2da6"
      },
      "execution_count": null,
      "outputs": [
        {
          "output_type": "execute_result",
          "data": {
            "text/plain": [
              "(1, 1, 4, 2)"
            ]
          },
          "metadata": {},
          "execution_count": 33
        }
      ]
    },
    {
      "cell_type": "code",
      "source": [
        "# ndarray.ndim  - Returns the no.of dimensions.\n",
        "x = np.array([[[[[1,2],[4,5],[2,3],[5,6]]]]])\n",
        "x.ndim"
      ],
      "metadata": {
        "colab": {
          "base_uri": "https://localhost:8080/"
        },
        "id": "mSLRGVbr_2t9",
        "outputId": "e4760338-3d7d-40f7-b099-366105a322ea"
      },
      "execution_count": null,
      "outputs": [
        {
          "output_type": "execute_result",
          "data": {
            "text/plain": [
              "5"
            ]
          },
          "metadata": {},
          "execution_count": 35
        }
      ]
    },
    {
      "cell_type": "code",
      "source": [
        "x.shape"
      ],
      "metadata": {
        "colab": {
          "base_uri": "https://localhost:8080/"
        },
        "id": "mvfAqMHS_70Z",
        "outputId": "7b50aca8-f054-4293-9824-b65998b2201a"
      },
      "execution_count": null,
      "outputs": [
        {
          "output_type": "execute_result",
          "data": {
            "text/plain": [
              "(1, 1, 1, 4, 2)"
            ]
          },
          "metadata": {},
          "execution_count": 36
        }
      ]
    },
    {
      "cell_type": "code",
      "source": [
        "x = np.array([[[1,2,4],[4,5,6],[2,3,3],[5,6,2],[1,2,4],[4,5,6],[2,3,3],[5,6,2],[1,2,4],[4,5,6],[2,3,3],[5,6,2]]])\n",
        "x.ndim"
      ],
      "metadata": {
        "colab": {
          "base_uri": "https://localhost:8080/"
        },
        "id": "eDK_NyITAOd1",
        "outputId": "1f386aca-9ac7-4da8-e9ff-8281a0360aa2"
      },
      "execution_count": null,
      "outputs": [
        {
          "output_type": "execute_result",
          "data": {
            "text/plain": [
              "3"
            ]
          },
          "metadata": {},
          "execution_count": 46
        }
      ]
    },
    {
      "cell_type": "code",
      "source": [
        "x.shape"
      ],
      "metadata": {
        "colab": {
          "base_uri": "https://localhost:8080/"
        },
        "id": "lwNQskl_AN_Y",
        "outputId": "ee55999d-58aa-4757-ddfd-f30a8e39206e"
      },
      "execution_count": null,
      "outputs": [
        {
          "output_type": "execute_result",
          "data": {
            "text/plain": [
              "(1, 12, 3)"
            ]
          },
          "metadata": {},
          "execution_count": 47
        }
      ]
    },
    {
      "cell_type": "code",
      "source": [
        "s = np.array([[[[3,4,5,6],\n",
        "                [4,5,6,7],\n",
        "                [4,2,5,8],\n",
        "                [2,3,4,5]],\n",
        "\n",
        "               [[4,6,7,8],\n",
        "                [5,6,7,8],\n",
        "                [6,5,7,8],\n",
        "                [2,5,74,89]],\n",
        "\n",
        "               [[4,6,7,8],\n",
        "                [5,6,7,8],\n",
        "                [6,5,7,8],\n",
        "                [2,5,74,89]]]])\n",
        "print(s)"
      ],
      "metadata": {
        "colab": {
          "base_uri": "https://localhost:8080/"
        },
        "id": "a-JcfYbJB2Ez",
        "outputId": "3edd1e45-c4d6-48bc-f489-9b990f340cb3"
      },
      "execution_count": null,
      "outputs": [
        {
          "output_type": "stream",
          "name": "stdout",
          "text": [
            "[[[[ 3  4  5  6]\n",
            "   [ 4  5  6  7]\n",
            "   [ 4  2  5  8]\n",
            "   [ 2  3  4  5]]\n",
            "\n",
            "  [[ 4  6  7  8]\n",
            "   [ 5  6  7  8]\n",
            "   [ 6  5  7  8]\n",
            "   [ 2  5 74 89]]\n",
            "\n",
            "  [[ 4  6  7  8]\n",
            "   [ 5  6  7  8]\n",
            "   [ 6  5  7  8]\n",
            "   [ 2  5 74 89]]]]\n"
          ]
        }
      ]
    },
    {
      "cell_type": "code",
      "source": [
        "s.shape"
      ],
      "metadata": {
        "colab": {
          "base_uri": "https://localhost:8080/"
        },
        "id": "QwgeouoyD331",
        "outputId": "df601b74-f789-4e31-ff1e-163911099655"
      },
      "execution_count": null,
      "outputs": [
        {
          "output_type": "execute_result",
          "data": {
            "text/plain": [
              "(1, 3, 4, 4)"
            ]
          },
          "metadata": {},
          "execution_count": 20
        }
      ]
    },
    {
      "cell_type": "code",
      "source": [
        "x = np.array([[[[3,4,5],\n",
        "                [4,5,6]],\n",
        "               [[4,2,5],\n",
        "                [2,3,4]]],\n",
        "\n",
        "              [[[4,6,7],\n",
        "                [5,6,7]],\n",
        "               [[6,5,7],\n",
        "                [2,5,74]]]])\n",
        "\n",
        "print(x)"
      ],
      "metadata": {
        "colab": {
          "base_uri": "https://localhost:8080/"
        },
        "id": "4FYbu9Q8D7L-",
        "outputId": "5ba9c4d7-97a9-42aa-a594-156e15fad698"
      },
      "execution_count": null,
      "outputs": [
        {
          "output_type": "stream",
          "name": "stdout",
          "text": [
            "[[[[ 3  4  5]\n",
            "   [ 4  5  6]]\n",
            "\n",
            "  [[ 4  2  5]\n",
            "   [ 2  3  4]]]\n",
            "\n",
            "\n",
            " [[[ 4  6  7]\n",
            "   [ 5  6  7]]\n",
            "\n",
            "  [[ 6  5  7]\n",
            "   [ 2  5 74]]]]\n"
          ]
        }
      ]
    },
    {
      "cell_type": "code",
      "source": [
        "x.shape"
      ],
      "metadata": {
        "colab": {
          "base_uri": "https://localhost:8080/"
        },
        "id": "z-w19UbsGWjb",
        "outputId": "4fdb8ef0-6df8-45d4-d8d0-840c6e14cf1a"
      },
      "execution_count": null,
      "outputs": [
        {
          "output_type": "execute_result",
          "data": {
            "text/plain": [
              "(2, 2, 2, 3)"
            ]
          },
          "metadata": {},
          "execution_count": 13
        }
      ]
    },
    {
      "cell_type": "code",
      "source": [
        "# Work.\n",
        "(1,2,1,4)\n",
        "(3,2,1,4)\n",
        "(2,3,5)\n",
        "(1,2,3,5)"
      ],
      "metadata": {
        "id": "wVw0ncuYGPUH"
      },
      "execution_count": null,
      "outputs": []
    },
    {
      "cell_type": "code",
      "source": [
        "s = np.array([[[1,2,3,4,5],\n",
        "               [6,7,8,9,6],\n",
        "               [1,2,3,4,5]],\n",
        "\n",
        "              [[4,5,6,7,8],\n",
        "               [8,3,6,2,5],\n",
        "               [3,4,2,5,8]]])\n",
        "print(s)"
      ],
      "metadata": {
        "colab": {
          "base_uri": "https://localhost:8080/"
        },
        "id": "O7p1C0AYJYoo",
        "outputId": "c2ff0aa0-8dfd-4eea-85f4-326d0c3dbfba"
      },
      "execution_count": null,
      "outputs": [
        {
          "output_type": "stream",
          "name": "stdout",
          "text": [
            "[[[1 2 3 4 5]\n",
            "  [6 7 8 9 6]\n",
            "  [1 2 3 4 5]]\n",
            "\n",
            " [[4 5 6 7 8]\n",
            "  [8 3 6 2 5]\n",
            "  [3 4 2 5 8]]]\n"
          ]
        }
      ]
    },
    {
      "cell_type": "code",
      "source": [
        "s.shape"
      ],
      "metadata": {
        "colab": {
          "base_uri": "https://localhost:8080/"
        },
        "id": "V6UQ-EoVKcnu",
        "outputId": "7ac61745-993d-43bc-fa7f-7834c138a705"
      },
      "execution_count": null,
      "outputs": [
        {
          "output_type": "execute_result",
          "data": {
            "text/plain": [
              "(2, 3, 5)"
            ]
          },
          "metadata": {},
          "execution_count": 24
        }
      ]
    },
    {
      "cell_type": "code",
      "source": [
        "(1,2,3,5)\n",
        "\n",
        "v = np.array([[[[5,6,3,4,5],\n",
        "                [3,4,5,6,7],\n",
        "                [6,7,8,9,5]],\n",
        "\n",
        "               [[5,6,3,4,5],\n",
        "                [3,4,5,6,7],\n",
        "                [6,7,8,9,5]]]])"
      ],
      "metadata": {
        "id": "IgM0JjjtKsR-"
      },
      "execution_count": null,
      "outputs": []
    },
    {
      "cell_type": "code",
      "source": [
        "v.shape"
      ],
      "metadata": {
        "colab": {
          "base_uri": "https://localhost:8080/"
        },
        "id": "LktdZOw-LyCJ",
        "outputId": "81d6556b-629e-4b21-ca50-2fe50c5f4216"
      },
      "execution_count": null,
      "outputs": [
        {
          "output_type": "execute_result",
          "data": {
            "text/plain": [
              "(1, 2, 3, 5)"
            ]
          },
          "metadata": {},
          "execution_count": 32
        }
      ]
    },
    {
      "cell_type": "code",
      "source": [
        "(1,2,1,4)\n",
        "\n",
        "f = np.array([[[[5,6,3,4]],\n",
        "               [[5,6,3,4]]]])\n",
        "print(f)"
      ],
      "metadata": {
        "colab": {
          "base_uri": "https://localhost:8080/"
        },
        "id": "5Ebgm7mLL1lL",
        "outputId": "194e634a-2918-472c-92ac-2869256c066e"
      },
      "execution_count": null,
      "outputs": [
        {
          "output_type": "stream",
          "name": "stdout",
          "text": [
            "[[[[5 6 3 4]]\n",
            "\n",
            "  [[5 6 3 4]]]]\n"
          ]
        }
      ]
    },
    {
      "cell_type": "code",
      "source": [
        "f.shape"
      ],
      "metadata": {
        "colab": {
          "base_uri": "https://localhost:8080/"
        },
        "id": "7rZFiJENM9xU",
        "outputId": "4b1a0c63-8482-4938-b161-7638f5a00415"
      },
      "execution_count": null,
      "outputs": [
        {
          "output_type": "execute_result",
          "data": {
            "text/plain": [
              "(1, 2, 1, 4)"
            ]
          },
          "metadata": {},
          "execution_count": 37
        }
      ]
    },
    {
      "cell_type": "code",
      "source": [
        "(3,2,1,4)\n",
        "t = np.array([[[[3,4,5,6]],\n",
        "               [[3,4,5,6]]],\n",
        "\n",
        "              [[[3,4,5,6]],\n",
        "               [[3,4,5,6]]],\n",
        "\n",
        "              [[[3,4,5,6]],\n",
        "               [[3,4,5,6]]]])\n",
        "print(t)"
      ],
      "metadata": {
        "colab": {
          "base_uri": "https://localhost:8080/"
        },
        "id": "X-tymA5BNCBS",
        "outputId": "527db4cf-a511-4969-91e5-230b5dc78e8d"
      },
      "execution_count": null,
      "outputs": [
        {
          "output_type": "stream",
          "name": "stdout",
          "text": [
            "[[[[3 4 5 6]]\n",
            "\n",
            "  [[3 4 5 6]]]\n",
            "\n",
            "\n",
            " [[[3 4 5 6]]\n",
            "\n",
            "  [[3 4 5 6]]]\n",
            "\n",
            "\n",
            " [[[3 4 5 6]]\n",
            "\n",
            "  [[3 4 5 6]]]]\n"
          ]
        }
      ]
    },
    {
      "cell_type": "code",
      "source": [
        "t.shape"
      ],
      "metadata": {
        "colab": {
          "base_uri": "https://localhost:8080/"
        },
        "id": "mggWCB8eN-H4",
        "outputId": "cba0e472-fdb8-48d1-da24-2be59f7d1d08"
      },
      "execution_count": null,
      "outputs": [
        {
          "output_type": "execute_result",
          "data": {
            "text/plain": [
              "(3, 2, 1, 4)"
            ]
          },
          "metadata": {},
          "execution_count": 5
        }
      ]
    },
    {
      "cell_type": "code",
      "source": [
        "# change the shape of an array.\n",
        "# shape of an ndarray also gives its size and no. of dimensions.\n",
        "# for size, multiply the values in the shape tuple . e.g.(2,3) ---- 2*3=6\n",
        "#for dimensions ,count the no.of values in the shape tuple e.g (2,3) --2Dimensional.\n",
        "# while changing the shape of an array keep in mind that its size will not change.\n",
        "import numpy as np\n",
        "x = np.array([1,2,3,4])\n",
        "print(x.shape)\n",
        "print(x)\n",
        "# (2,2) ==2*2 = 4\n",
        "# (2*3) ==2*3 = 6\n",
        "x.shape = (1,1,2,2)  # 1*2*2 = 4\n",
        "x"
      ],
      "metadata": {
        "colab": {
          "base_uri": "https://localhost:8080/"
        },
        "id": "fCaZ0yITNwZl",
        "outputId": "6617e1e9-05c1-47d9-a8fa-4c2c037e2785"
      },
      "execution_count": null,
      "outputs": [
        {
          "output_type": "stream",
          "name": "stdout",
          "text": [
            "(4,)\n",
            "[1 2 3 4]\n"
          ]
        },
        {
          "output_type": "execute_result",
          "data": {
            "text/plain": [
              "array([[[[1, 2],\n",
              "         [3, 4]]]])"
            ]
          },
          "metadata": {},
          "execution_count": 4
        }
      ]
    },
    {
      "cell_type": "code",
      "source": [
        "# (4,4)\n",
        "y = np.array([2,5,6,3,6,3,5,7])\n",
        "print(y.shape)\n",
        "print(y)"
      ],
      "metadata": {
        "colab": {
          "base_uri": "https://localhost:8080/"
        },
        "id": "6re4w8ofN-XB",
        "outputId": "781abb95-d118-400a-b192-9933ff30033d"
      },
      "execution_count": null,
      "outputs": [
        {
          "output_type": "stream",
          "name": "stdout",
          "text": [
            "(8,)\n",
            "[2 5 6 3 6 3 5 7]\n"
          ]
        }
      ]
    },
    {
      "cell_type": "code",
      "source": [
        "y.shape = (1,8)\n",
        "y"
      ],
      "metadata": {
        "colab": {
          "base_uri": "https://localhost:8080/"
        },
        "id": "zUoABTtSQr8J",
        "outputId": "49bf964f-f1a1-4190-a35b-d59dde9c4d2e"
      },
      "execution_count": null,
      "outputs": [
        {
          "output_type": "execute_result",
          "data": {
            "text/plain": [
              "array([[2, 5, 6, 3, 6, 3, 5, 7]])"
            ]
          },
          "metadata": {},
          "execution_count": 6
        }
      ]
    },
    {
      "cell_type": "code",
      "source": [
        "y.shape = (1,4,2)\n",
        "y"
      ],
      "metadata": {
        "colab": {
          "base_uri": "https://localhost:8080/"
        },
        "id": "MBZXLBK-RP93",
        "outputId": "37b5ef85-0bed-4c34-cfc2-d9621df58921"
      },
      "execution_count": null,
      "outputs": [
        {
          "output_type": "execute_result",
          "data": {
            "text/plain": [
              "array([[[2, 5],\n",
              "        [6, 3],\n",
              "        [6, 3],\n",
              "        [5, 7]]])"
            ]
          },
          "metadata": {},
          "execution_count": 7
        }
      ]
    },
    {
      "cell_type": "code",
      "source": [
        "y.shape = (1,2,2,2)\n",
        "y"
      ],
      "metadata": {
        "colab": {
          "base_uri": "https://localhost:8080/"
        },
        "id": "3zo6DPIjRgAL",
        "outputId": "6cfa7450-bb2a-44ab-f82a-064d5dcb6200"
      },
      "execution_count": null,
      "outputs": [
        {
          "output_type": "execute_result",
          "data": {
            "text/plain": [
              "array([[[[2, 5],\n",
              "         [6, 3]],\n",
              "\n",
              "        [[6, 3],\n",
              "         [5, 7]]]])"
            ]
          },
          "metadata": {},
          "execution_count": 8
        }
      ]
    },
    {
      "cell_type": "code",
      "source": [
        "y.shape = (1,1,2,2,2)\n",
        "y"
      ],
      "metadata": {
        "colab": {
          "base_uri": "https://localhost:8080/"
        },
        "id": "qz4_xpWkRtzh",
        "outputId": "2a236528-8d36-4f79-8f0d-2b515756b672"
      },
      "execution_count": null,
      "outputs": [
        {
          "output_type": "execute_result",
          "data": {
            "text/plain": [
              "array([[[[[2, 5],\n",
              "          [6, 3]],\n",
              "\n",
              "         [[6, 3],\n",
              "          [5, 7]]]]])"
            ]
          },
          "metadata": {},
          "execution_count": 9
        }
      ]
    },
    {
      "cell_type": "code",
      "source": [
        "# ndarray.size - Returns the no. of elements.\n",
        "x = np.array([1,2,3,4,5])\n",
        "x.size"
      ],
      "metadata": {
        "colab": {
          "base_uri": "https://localhost:8080/"
        },
        "id": "HPmSTFFDTIle",
        "outputId": "6934e72a-5ed6-483f-f846-f043e9e269cc"
      },
      "execution_count": null,
      "outputs": [
        {
          "output_type": "execute_result",
          "data": {
            "text/plain": [
              "5"
            ]
          },
          "metadata": {},
          "execution_count": 11
        }
      ]
    },
    {
      "cell_type": "code",
      "source": [
        "# ndarray.dtype - Returns the dtype of the elements in the ndarray.\n",
        "x.dtype"
      ],
      "metadata": {
        "colab": {
          "base_uri": "https://localhost:8080/"
        },
        "id": "BSlHoV_ETUaC",
        "outputId": "93b5e14d-766d-4c60-c1e2-123bac74a949"
      },
      "execution_count": null,
      "outputs": [
        {
          "output_type": "execute_result",
          "data": {
            "text/plain": [
              "dtype('int64')"
            ]
          },
          "metadata": {},
          "execution_count": 13
        }
      ]
    },
    {
      "cell_type": "markdown",
      "source": [
        "# Methods and Function used with ndarrays."
      ],
      "metadata": {
        "id": "BkG93tTwU57R"
      }
    },
    {
      "cell_type": "code",
      "source": [
        "import numpy as np"
      ],
      "metadata": {
        "id": "JWlRwoaYU-8U"
      },
      "execution_count": null,
      "outputs": []
    },
    {
      "cell_type": "code",
      "source": [
        "# np.ones(shape,dtype) - Returns a new array of given shape and type, filled with ones.\n",
        "np.ones((2,3,4))"
      ],
      "metadata": {
        "colab": {
          "base_uri": "https://localhost:8080/"
        },
        "id": "-GKF5upHVEFC",
        "outputId": "9895a618-e0dc-4bfc-c9d2-b9bd2baf2941"
      },
      "execution_count": null,
      "outputs": [
        {
          "output_type": "execute_result",
          "data": {
            "text/plain": [
              "array([[[1., 1., 1., 1.],\n",
              "        [1., 1., 1., 1.],\n",
              "        [1., 1., 1., 1.]],\n",
              "\n",
              "       [[1., 1., 1., 1.],\n",
              "        [1., 1., 1., 1.],\n",
              "        [1., 1., 1., 1.]]])"
            ]
          },
          "metadata": {},
          "execution_count": 54
        }
      ]
    },
    {
      "cell_type": "code",
      "source": [
        "np.ones((1,5),\"int32\")"
      ],
      "metadata": {
        "id": "BDcnwj5UQZdf",
        "colab": {
          "base_uri": "https://localhost:8080/"
        },
        "outputId": "c66097a9-e847-49fc-dca3-09f4a55de43d"
      },
      "execution_count": null,
      "outputs": [
        {
          "output_type": "execute_result",
          "data": {
            "text/plain": [
              "array([[1, 1, 1, 1, 1]], dtype=int32)"
            ]
          },
          "metadata": {},
          "execution_count": 64
        }
      ]
    },
    {
      "cell_type": "code",
      "source": [
        "# np.zeros(shape,dtype) - Returns a new array of given shape and type, filled with zeros.\n",
        "np.zeros((1,2,3,4))"
      ],
      "metadata": {
        "colab": {
          "base_uri": "https://localhost:8080/"
        },
        "id": "Neq3F1MnVbac",
        "outputId": "fa7a2b25-5e76-4fce-e87a-cf43d5fe85e5"
      },
      "execution_count": null,
      "outputs": [
        {
          "output_type": "execute_result",
          "data": {
            "text/plain": [
              "array([[[[0., 0., 0., 0.],\n",
              "         [0., 0., 0., 0.],\n",
              "         [0., 0., 0., 0.]],\n",
              "\n",
              "        [[0., 0., 0., 0.],\n",
              "         [0., 0., 0., 0.],\n",
              "         [0., 0., 0., 0.]]]])"
            ]
          },
          "metadata": {},
          "execution_count": 23
        }
      ]
    },
    {
      "cell_type": "code",
      "source": [
        "np.zeros((0,6),\"int64\")"
      ],
      "metadata": {
        "colab": {
          "base_uri": "https://localhost:8080/"
        },
        "id": "XwyLgUmfWBgN",
        "outputId": "a41df715-3d3f-42b1-e0ba-0299dbe4392f"
      },
      "execution_count": null,
      "outputs": [
        {
          "output_type": "execute_result",
          "data": {
            "text/plain": [
              "array([], shape=(0, 6), dtype=int64)"
            ]
          },
          "metadata": {},
          "execution_count": 65
        }
      ]
    },
    {
      "cell_type": "code",
      "source": [
        "# np.empty(shape,dtype)\n",
        "# Return a new array of given shape and type, without initializing entries.\n",
        "np.empty((2,1),\"uint\")"
      ],
      "metadata": {
        "colab": {
          "base_uri": "https://localhost:8080/"
        },
        "id": "GMzJ0BeBW19Y",
        "outputId": "59f03e44-ff34-491f-d79f-5e3ab19e6f50"
      },
      "execution_count": null,
      "outputs": [
        {
          "output_type": "execute_result",
          "data": {
            "text/plain": [
              "array([[94640398406234],\n",
              "       [             0]], dtype=uint64)"
            ]
          },
          "metadata": {},
          "execution_count": 63
        }
      ]
    },
    {
      "cell_type": "code",
      "source": [
        "np.empty((2,1),\"U\")"
      ],
      "metadata": {
        "colab": {
          "base_uri": "https://localhost:8080/"
        },
        "id": "G5zvQ-eAY2eu",
        "outputId": "2744aa02-0f5c-4d08-f83d-5f36abf0d5c1"
      },
      "execution_count": null,
      "outputs": [
        {
          "output_type": "execute_result",
          "data": {
            "text/plain": [
              "array([[''],\n",
              "       ['']], dtype='<U1')"
            ]
          },
          "metadata": {},
          "execution_count": 60
        }
      ]
    },
    {
      "cell_type": "code",
      "source": [
        "np.empty((2,1),\"S\")"
      ],
      "metadata": {
        "colab": {
          "base_uri": "https://localhost:8080/"
        },
        "id": "0H6aUqm6Y8Ef",
        "outputId": "013893bd-43fb-43f4-fb28-04d6a57e59f5"
      },
      "execution_count": null,
      "outputs": [
        {
          "output_type": "execute_result",
          "data": {
            "text/plain": [
              "array([[b'\\x19'],\n",
              "       [b'\\x14']], dtype='|S1')"
            ]
          },
          "metadata": {},
          "execution_count": 61
        }
      ]
    },
    {
      "cell_type": "code",
      "source": [
        "np.empty((2,1),\"O\")"
      ],
      "metadata": {
        "colab": {
          "base_uri": "https://localhost:8080/"
        },
        "id": "gUP6JOY0ZAi_",
        "outputId": "4bfc5b9f-083a-4b58-bafb-7040db2b0fea"
      },
      "execution_count": null,
      "outputs": [
        {
          "output_type": "execute_result",
          "data": {
            "text/plain": [
              "array([[None],\n",
              "       [None]], dtype=object)"
            ]
          },
          "metadata": {},
          "execution_count": 62
        }
      ]
    },
    {
      "cell_type": "code",
      "source": [
        "# np.full(shape,fill_value,dtype) -\n",
        "# Returns the new array of given shape and type, filled with fill_value.\n",
        "x = (2,1,4,5)\n",
        "y = 10\n",
        "np.full(x,y)"
      ],
      "metadata": {
        "colab": {
          "base_uri": "https://localhost:8080/"
        },
        "id": "8bKiXr7TZEDt",
        "outputId": "181e1063-3fd7-4401-f84f-5ef7eec67eae"
      },
      "execution_count": null,
      "outputs": [
        {
          "output_type": "execute_result",
          "data": {
            "text/plain": [
              "array([[[[10, 10, 10, 10, 10],\n",
              "         [10, 10, 10, 10, 10],\n",
              "         [10, 10, 10, 10, 10],\n",
              "         [10, 10, 10, 10, 10]]],\n",
              "\n",
              "\n",
              "       [[[10, 10, 10, 10, 10],\n",
              "         [10, 10, 10, 10, 10],\n",
              "         [10, 10, 10, 10, 10],\n",
              "         [10, 10, 10, 10, 10]]]])"
            ]
          },
          "metadata": {},
          "execution_count": 15
        }
      ]
    },
    {
      "cell_type": "code",
      "source": [
        "np.full(x,y).dtype"
      ],
      "metadata": {
        "colab": {
          "base_uri": "https://localhost:8080/"
        },
        "id": "S29qbghfbBXz",
        "outputId": "d269f0c4-a414-4bd3-ac4c-6676cb7a1c5d"
      },
      "execution_count": null,
      "outputs": [
        {
          "output_type": "execute_result",
          "data": {
            "text/plain": [
              "dtype('int64')"
            ]
          },
          "metadata": {},
          "execution_count": 12
        }
      ]
    },
    {
      "cell_type": "code",
      "source": [
        "y = np.array([1,5])\n",
        "y.dtype"
      ],
      "metadata": {
        "colab": {
          "base_uri": "https://localhost:8080/"
        },
        "id": "7Bla7aRyfElL",
        "outputId": "0de0f837-da2a-41e6-e5e4-ac793031f5b6"
      },
      "execution_count": null,
      "outputs": [
        {
          "output_type": "execute_result",
          "data": {
            "text/plain": [
              "dtype('int64')"
            ]
          },
          "metadata": {},
          "execution_count": 59
        }
      ]
    },
    {
      "cell_type": "code",
      "source": [
        "np.array([1,4]).dtype   ######"
      ],
      "metadata": {
        "colab": {
          "base_uri": "https://localhost:8080/"
        },
        "id": "rkf5kD3keoON",
        "outputId": "92c368ab-ad67-431b-af2d-1543fb7f5f81"
      },
      "execution_count": null,
      "outputs": [
        {
          "output_type": "execute_result",
          "data": {
            "text/plain": [
              "dtype('int64')"
            ]
          },
          "metadata": {},
          "execution_count": 3
        }
      ]
    },
    {
      "cell_type": "code",
      "source": [
        "# np.arange(start,stop,step,dtype) - Returns evenly spaced values within a given interval.\n",
        "np.arange(3,10,2)"
      ],
      "metadata": {
        "colab": {
          "base_uri": "https://localhost:8080/"
        },
        "id": "Ocj3QVE9clLr",
        "outputId": "ebb32f63-a2ca-4cd7-db87-06e02685e14c"
      },
      "execution_count": null,
      "outputs": [
        {
          "output_type": "execute_result",
          "data": {
            "text/plain": [
              "array([3, 5, 7, 9])"
            ]
          },
          "metadata": {},
          "execution_count": 16
        }
      ]
    },
    {
      "cell_type": "code",
      "source": [
        "# can we use floating point start ,stop & step.\n",
        "# yes, we can also use floating point number in arange.\n",
        "np.arange(3.5,11.7,2.4)"
      ],
      "metadata": {
        "colab": {
          "base_uri": "https://localhost:8080/"
        },
        "id": "7ph2N5KAc28s",
        "outputId": "bbb2245e-7b00-4295-ae0c-ef411367c050"
      },
      "execution_count": null,
      "outputs": [
        {
          "output_type": "execute_result",
          "data": {
            "text/plain": [
              "array([ 3.5,  5.9,  8.3, 10.7])"
            ]
          },
          "metadata": {},
          "execution_count": 21
        }
      ]
    },
    {
      "cell_type": "code",
      "source": [
        "np.arange(3.5,1.1,2.4).dtype"
      ],
      "metadata": {
        "colab": {
          "base_uri": "https://localhost:8080/"
        },
        "id": "p760QNkYd7Wm",
        "outputId": "da8a84d2-6836-4ed4-9fea-fae01f3c43df"
      },
      "execution_count": null,
      "outputs": [
        {
          "output_type": "execute_result",
          "data": {
            "text/plain": [
              "dtype('float64')"
            ]
          },
          "metadata": {},
          "execution_count": 25
        }
      ]
    },
    {
      "cell_type": "code",
      "source": [
        "# numpy.linspace(start,stop,num=50,endpoint=True,dtype)\n",
        "# Return evenly spaced numbers over a specified interval.\n",
        "# what do num=50 and endpoint+true suggest here?\n",
        "# num=50 is the default value of num whhen not given ,i.e. , it will give 50 numbers in the range.\n",
        "# endpoint+True is the default value of endpoint which tells us that he stop value is inclusive by default.\n",
        "np.linspace(2,10,endpoint=False)"
      ],
      "metadata": {
        "colab": {
          "base_uri": "https://localhost:8080/"
        },
        "id": "T31PwQQCjyzk",
        "outputId": "2e027c9a-1fc9-4872-a148-8d46bea866ca"
      },
      "execution_count": null,
      "outputs": [
        {
          "output_type": "execute_result",
          "data": {
            "text/plain": [
              "array([2.  , 2.16, 2.32, 2.48, 2.64, 2.8 , 2.96, 3.12, 3.28, 3.44, 3.6 ,\n",
              "       3.76, 3.92, 4.08, 4.24, 4.4 , 4.56, 4.72, 4.88, 5.04, 5.2 , 5.36,\n",
              "       5.52, 5.68, 5.84, 6.  , 6.16, 6.32, 6.48, 6.64, 6.8 , 6.96, 7.12,\n",
              "       7.28, 7.44, 7.6 , 7.76, 7.92, 8.08, 8.24, 8.4 , 8.56, 8.72, 8.88,\n",
              "       9.04, 9.2 , 9.36, 9.52, 9.68, 9.84])"
            ]
          },
          "metadata": {},
          "execution_count": 32
        }
      ]
    },
    {
      "cell_type": "code",
      "source": [
        "np.linspace(2,10,10)"
      ],
      "metadata": {
        "colab": {
          "base_uri": "https://localhost:8080/"
        },
        "id": "xGaddUEnd9Px",
        "outputId": "ba6410aa-1b7c-4cce-868d-1cdf2757ff4c"
      },
      "execution_count": null,
      "outputs": [
        {
          "output_type": "execute_result",
          "data": {
            "text/plain": [
              "array([ 2.        ,  2.88888889,  3.77777778,  4.66666667,  5.55555556,\n",
              "        6.44444444,  7.33333333,  8.22222222,  9.11111111, 10.        ])"
            ]
          },
          "metadata": {},
          "execution_count": 34
        }
      ]
    },
    {
      "cell_type": "code",
      "source": [
        "np.linspace(2.7,10.4)"
      ],
      "metadata": {
        "colab": {
          "base_uri": "https://localhost:8080/"
        },
        "id": "XTWP0c7biWK8",
        "outputId": "816bd25f-430f-4709-dd66-8cf51e7ba7aa"
      },
      "execution_count": null,
      "outputs": [
        {
          "output_type": "execute_result",
          "data": {
            "text/plain": [
              "array([ 2.7       ,  2.85714286,  3.01428571,  3.17142857,  3.32857143,\n",
              "        3.48571429,  3.64285714,  3.8       ,  3.95714286,  4.11428571,\n",
              "        4.27142857,  4.42857143,  4.58571429,  4.74285714,  4.9       ,\n",
              "        5.05714286,  5.21428571,  5.37142857,  5.52857143,  5.68571429,\n",
              "        5.84285714,  6.        ,  6.15714286,  6.31428571,  6.47142857,\n",
              "        6.62857143,  6.78571429,  6.94285714,  7.1       ,  7.25714286,\n",
              "        7.41428571,  7.57142857,  7.72857143,  7.88571429,  8.04285714,\n",
              "        8.2       ,  8.35714286,  8.51428571,  8.67142857,  8.82857143,\n",
              "        8.98571429,  9.14285714,  9.3       ,  9.45714286,  9.61428571,\n",
              "        9.77142857,  9.92857143, 10.08571429, 10.24285714, 10.4       ])"
            ]
          },
          "metadata": {},
          "execution_count": 40
        }
      ]
    },
    {
      "cell_type": "code",
      "source": [
        "np.linspace(2.7,10.4).size"
      ],
      "metadata": {
        "colab": {
          "base_uri": "https://localhost:8080/"
        },
        "id": "FdkRYn5Rl96Z",
        "outputId": "fb0f5efe-7bb1-4ecd-a5c5-5e1b73481707"
      },
      "execution_count": null,
      "outputs": [
        {
          "output_type": "execute_result",
          "data": {
            "text/plain": [
              "50"
            ]
          },
          "metadata": {},
          "execution_count": 42
        }
      ]
    },
    {
      "cell_type": "code",
      "source": [
        "np.linspace(2.7,10.4).dtype"
      ],
      "metadata": {
        "colab": {
          "base_uri": "https://localhost:8080/"
        },
        "id": "hwtRNuEan1cN",
        "outputId": "81c8fa3b-aa0c-4950-8e87-93e3ec86d1aa"
      },
      "execution_count": null,
      "outputs": [
        {
          "output_type": "execute_result",
          "data": {
            "text/plain": [
              "dtype('float64')"
            ]
          },
          "metadata": {},
          "execution_count": 43
        }
      ]
    },
    {
      "cell_type": "code",
      "source": [
        "np.linspace(2.7,10.4).shape"
      ],
      "metadata": {
        "colab": {
          "base_uri": "https://localhost:8080/"
        },
        "id": "ClOTaArzn4AL",
        "outputId": "969adb73-76ac-4df8-8fc8-5e62a0e65148"
      },
      "execution_count": null,
      "outputs": [
        {
          "output_type": "execute_result",
          "data": {
            "text/plain": [
              "(50,)"
            ]
          },
          "metadata": {},
          "execution_count": 44
        }
      ]
    },
    {
      "cell_type": "code",
      "source": [
        "np.linspace(2.7,10.4).ndim"
      ],
      "metadata": {
        "colab": {
          "base_uri": "https://localhost:8080/"
        },
        "id": "YDCB9Ll3n8ZA",
        "outputId": "95e31dbe-415d-4ae3-ea67-55b18f57764c"
      },
      "execution_count": null,
      "outputs": [
        {
          "output_type": "execute_result",
          "data": {
            "text/plain": [
              "1"
            ]
          },
          "metadata": {},
          "execution_count": 45
        }
      ]
    },
    {
      "cell_type": "markdown",
      "source": [
        "# Shape Manipulation In NumPy."
      ],
      "metadata": {
        "id": "FGGDuAUPnbVx"
      }
    },
    {
      "cell_type": "code",
      "source": [
        "import numpy as np"
      ],
      "metadata": {
        "id": "bNJcyXX_nfu8"
      },
      "execution_count": null,
      "outputs": []
    },
    {
      "cell_type": "code",
      "source": [
        "# .reshape\n",
        "x = np.array([1,2,3,4])\n",
        "print(x.shape)\n",
        "x = x.reshape(2,2)      # Creates a copy of the ndarray."
      ],
      "metadata": {
        "colab": {
          "base_uri": "https://localhost:8080/"
        },
        "id": "sb0WMteYpLKU",
        "outputId": "c02c2830-1535-4f50-9c67-79c2293c2d64"
      },
      "execution_count": null,
      "outputs": [
        {
          "output_type": "stream",
          "name": "stdout",
          "text": [
            "(4,)\n"
          ]
        }
      ]
    },
    {
      "cell_type": "code",
      "source": [
        "x"
      ],
      "metadata": {
        "colab": {
          "base_uri": "https://localhost:8080/"
        },
        "id": "BFug0i5b1wxI",
        "outputId": "878f9a56-4857-4f30-9f64-ec02ff2cd74a"
      },
      "execution_count": null,
      "outputs": [
        {
          "output_type": "execute_result",
          "data": {
            "text/plain": [
              "array([[1, 2],\n",
              "       [3, 4]])"
            ]
          },
          "metadata": {},
          "execution_count": 5
        }
      ]
    },
    {
      "cell_type": "code",
      "source": [
        "x.reshape(1,1,2,2,1)"
      ],
      "metadata": {
        "colab": {
          "base_uri": "https://localhost:8080/"
        },
        "id": "isgqigYU6tGt",
        "outputId": "41931d83-0164-47fc-8397-b1ff9e90634c"
      },
      "execution_count": null,
      "outputs": [
        {
          "output_type": "execute_result",
          "data": {
            "text/plain": [
              "array([[[[[1],\n",
              "          [2]],\n",
              "\n",
              "         [[3],\n",
              "          [4]]]]])"
            ]
          },
          "metadata": {},
          "execution_count": 6
        }
      ]
    },
    {
      "cell_type": "code",
      "source": [
        "x"
      ],
      "metadata": {
        "colab": {
          "base_uri": "https://localhost:8080/"
        },
        "id": "feIkHJbG60sX",
        "outputId": "02b0b2ee-0105-4b38-f91c-b8c3ada5e10c"
      },
      "execution_count": null,
      "outputs": [
        {
          "output_type": "execute_result",
          "data": {
            "text/plain": [
              "array([[1, 2],\n",
              "       [3, 4]])"
            ]
          },
          "metadata": {},
          "execution_count": 9
        }
      ]
    },
    {
      "cell_type": "code",
      "source": [
        "# .flatten()\n",
        "x.flatten()"
      ],
      "metadata": {
        "colab": {
          "base_uri": "https://localhost:8080/"
        },
        "id": "lL0PttxJ7B-Z",
        "outputId": "c9969de4-d73e-4fd2-e5da-38cb85ab14a4"
      },
      "execution_count": null,
      "outputs": [
        {
          "output_type": "execute_result",
          "data": {
            "text/plain": [
              "array([1, 2, 3, 4])"
            ]
          },
          "metadata": {},
          "execution_count": 10
        }
      ]
    },
    {
      "cell_type": "code",
      "source": [
        "# .ravel()\n",
        "x.ravel()"
      ],
      "metadata": {
        "colab": {
          "base_uri": "https://localhost:8080/"
        },
        "id": "eDLNsHCH7Oqb",
        "outputId": "d7d58082-333c-4279-e8f1-456b9e6f1abb"
      },
      "execution_count": null,
      "outputs": [
        {
          "output_type": "execute_result",
          "data": {
            "text/plain": [
              "array([1, 2, 3, 4])"
            ]
          },
          "metadata": {},
          "execution_count": 13
        }
      ]
    },
    {
      "cell_type": "code",
      "source": [
        "x    # but the value of x is not change.It will remains same.However you cannot assign it to the variable."
      ],
      "metadata": {
        "colab": {
          "base_uri": "https://localhost:8080/"
        },
        "id": "YqL_smYp7Ufz",
        "outputId": "d636128e-800a-4702-e5a8-2d133480ad58"
      },
      "execution_count": null,
      "outputs": [
        {
          "output_type": "execute_result",
          "data": {
            "text/plain": [
              "array([[1, 2],\n",
              "       [3, 4]])"
            ]
          },
          "metadata": {},
          "execution_count": 14
        }
      ]
    },
    {
      "cell_type": "code",
      "source": [
        "# .resize() -- just like .reshape\n",
        "# It will same as like .reshape make a copy of an array and .resize changes the value old value of an array.\n",
        "x.resize(4,1)"
      ],
      "metadata": {
        "id": "DRaywYBl7ezB"
      },
      "execution_count": null,
      "outputs": []
    },
    {
      "cell_type": "code",
      "source": [
        "x"
      ],
      "metadata": {
        "colab": {
          "base_uri": "https://localhost:8080/"
        },
        "id": "yLgVgHVm9Czb",
        "outputId": "951275c1-e232-4cfe-d7a3-edfa72c2e971"
      },
      "execution_count": null,
      "outputs": [
        {
          "output_type": "execute_result",
          "data": {
            "text/plain": [
              "array([[1],\n",
              "       [2],\n",
              "       [3],\n",
              "       [4]])"
            ]
          },
          "metadata": {},
          "execution_count": 16
        }
      ]
    },
    {
      "cell_type": "code",
      "source": [
        "x.reshape(2,2)        # It will not change it will remaainss constant.\n",
        "x"
      ],
      "metadata": {
        "colab": {
          "base_uri": "https://localhost:8080/"
        },
        "id": "exitSFlN9FQa",
        "outputId": "991d8fa2-1316-4716-c4b1-afe0e81471dc"
      },
      "execution_count": null,
      "outputs": [
        {
          "output_type": "execute_result",
          "data": {
            "text/plain": [
              "array([[1],\n",
              "       [2],\n",
              "       [3],\n",
              "       [4]])"
            ]
          },
          "metadata": {},
          "execution_count": 18
        }
      ]
    },
    {
      "cell_type": "markdown",
      "source": [
        "# Stacking."
      ],
      "metadata": {
        "id": "Qz799Fot9vAw"
      }
    },
    {
      "cell_type": "markdown",
      "source": [
        "<font size=3> ***Join a sequence of arrays along a new axis.***"
      ],
      "metadata": {
        "id": "jBSk-snNGkkM"
      }
    },
    {
      "cell_type": "markdown",
      "source": [
        "<font size=5> 2D Array."
      ],
      "metadata": {
        "id": "PPpbWeZaJPkg"
      }
    },
    {
      "cell_type": "code",
      "source": [
        "# .stack()\n",
        "# 2D\n",
        "import numpy as np\n",
        "n1 = np.array([[1,2,4],\n",
        "               [5,6,7]])\n",
        "n2 = np.array([[8,9,10],\n",
        "               [11,12,13]])\n",
        "print(f\"n1 : \\n {n1} \\nn2: \\n {n2} \\n\")\n",
        "print(\"for axis=0:\\n\",np.stack((n1,n2),axis=0),\"\\n\") # row-wise stacking."
      ],
      "metadata": {
        "colab": {
          "base_uri": "https://localhost:8080/"
        },
        "id": "bkPUxYf4GsjB",
        "outputId": "3ffb3ef0-88a3-467c-ede6-9f4ba44e701a"
      },
      "execution_count": null,
      "outputs": [
        {
          "output_type": "stream",
          "name": "stdout",
          "text": [
            "n1 : \n",
            " [[1 2 4]\n",
            " [5 6 7]] \n",
            "n2: \n",
            " [[ 8  9 10]\n",
            " [11 12 13]] \n",
            "\n",
            "for axis=0:\n",
            " [[[ 1  2  4]\n",
            "  [ 5  6  7]]\n",
            "\n",
            " [[ 8  9 10]\n",
            "  [11 12 13]]] \n",
            "\n"
          ]
        }
      ]
    },
    {
      "cell_type": "code",
      "source": [
        "print(f\"n1 : \\n {n1} \\nn2: \\n {n2} \\n\")\n",
        "print(\"for axis=1:\\n\",np.stack((n1,n2),axis=1))  # column-wise stacking."
      ],
      "metadata": {
        "colab": {
          "base_uri": "https://localhost:8080/"
        },
        "id": "s3d4qdsyHfRJ",
        "outputId": "a63bbf65-cb60-4e81-d1b8-af9270cd7bb3"
      },
      "execution_count": null,
      "outputs": [
        {
          "output_type": "stream",
          "name": "stdout",
          "text": [
            "n1 : \n",
            " [[1 2 4]\n",
            " [5 6 7]] \n",
            "n2: \n",
            " [[ 8  9 10]\n",
            " [11 12 13]] \n",
            "\n",
            "for axis=1:\n",
            " [[[ 1  2  4]\n",
            "  [ 8  9 10]]\n",
            "\n",
            " [[ 5  6  7]\n",
            "  [11 12 13]]]\n"
          ]
        }
      ]
    },
    {
      "cell_type": "markdown",
      "source": [
        "<font size=5> 1D Array.\n",
        "\n"
      ],
      "metadata": {
        "id": "j8hypMxJJdCQ"
      }
    },
    {
      "cell_type": "code",
      "source": [
        "# .stack()\n",
        "# 1D\n",
        "import numpy as np\n",
        "n1 = np.array([1,2,3,4])\n",
        "n2 = np.array([7,8,9,2])\n",
        "\n",
        "print(f\"n1: \\n {n1} \\nn2: \\n {n2} \\n\")\n",
        "print(\"for axis=0:\\n\",np.stack((n1,n2),axis=0),\"\\n\") # Row-wise Stacking."
      ],
      "metadata": {
        "colab": {
          "base_uri": "https://localhost:8080/"
        },
        "id": "zQuTU6NyIIzh",
        "outputId": "fb0601fc-7fd4-4511-c6da-b36de32af173"
      },
      "execution_count": null,
      "outputs": [
        {
          "output_type": "stream",
          "name": "stdout",
          "text": [
            "n1: \n",
            " [1 2 3 4] \n",
            "n2: \n",
            " [7 8 9 2] \n",
            "\n",
            "for axis=0:\n",
            " [[1 2 3 4]\n",
            " [7 8 9 2]] \n",
            "\n"
          ]
        }
      ]
    },
    {
      "cell_type": "code",
      "source": [
        "print(f\"n1: \\n {n1} \\nn2: \\n {n2} \\n\")\n",
        "print(\"for axis=1:\\n\",np.stack((n1,n2),axis=1),\"\\n\")  # column-wise Stacking."
      ],
      "metadata": {
        "colab": {
          "base_uri": "https://localhost:8080/"
        },
        "id": "82SkZxjhImGH",
        "outputId": "5b9959eb-628e-4f6c-e674-5fbabdcc63a1"
      },
      "execution_count": null,
      "outputs": [
        {
          "output_type": "stream",
          "name": "stdout",
          "text": [
            "n1: \n",
            " [1 2 3 4] \n",
            "n2: \n",
            " [7 8 9 2] \n",
            "\n",
            "for axis=1:\n",
            " [[1 7]\n",
            " [2 8]\n",
            " [3 9]\n",
            " [4 2]] \n",
            "\n"
          ]
        }
      ]
    },
    {
      "cell_type": "markdown",
      "source": [
        "# Concatenating."
      ],
      "metadata": {
        "id": "zagb-yb7MW01"
      }
    },
    {
      "cell_type": "markdown",
      "source": [
        "<font size=3> ***Join a sequence of arrays along an existing axis.***"
      ],
      "metadata": {
        "id": "vFjgUTZGMfbf"
      }
    },
    {
      "cell_type": "markdown",
      "source": [
        "<font size=5> 2D Array."
      ],
      "metadata": {
        "id": "TlYHuEkxOH2C"
      }
    },
    {
      "cell_type": "code",
      "source": [
        "# 2D\n",
        "import numpy as np\n",
        "x = np.array([[1,2,3],\n",
        "              [4,5,6]])\n",
        "y = np.array([[7,8,9],\n",
        "              [10,11,12]])\n",
        "\n",
        "print(f\"x : \\n {x} \\ny: \\n {y} \\n\")\n",
        "print(\"Resulting array:\\n\",np.concatenate((x,y),axis=0))  # row-wise concatenation."
      ],
      "metadata": {
        "colab": {
          "base_uri": "https://localhost:8080/"
        },
        "id": "r64O08aLf85M",
        "outputId": "33f2571e-58f0-442b-f1f2-fc7e2e06c4a9"
      },
      "execution_count": null,
      "outputs": [
        {
          "output_type": "stream",
          "name": "stdout",
          "text": [
            "x : \n",
            " [[1 2 3]\n",
            " [4 5 6]] \n",
            "y: \n",
            " [[ 7  8  9]\n",
            " [10 11 12]] \n",
            "\n",
            "Resulting array:\n",
            " [[ 1  2  3]\n",
            " [ 4  5  6]\n",
            " [ 7  8  9]\n",
            " [10 11 12]]\n"
          ]
        }
      ]
    },
    {
      "cell_type": "code",
      "source": [
        "print(f\"x : \\n {x} \\ny: \\n {y} \\n\")\n",
        "print(\"Resulting array:\\n\",np.concatenate((x,y),axis=1))  # column-wise concatenation."
      ],
      "metadata": {
        "colab": {
          "base_uri": "https://localhost:8080/"
        },
        "id": "OD0lX2jRguhp",
        "outputId": "35f10204-7414-4a9e-ae6e-d3cb3c0b34be"
      },
      "execution_count": null,
      "outputs": [
        {
          "output_type": "stream",
          "name": "stdout",
          "text": [
            "x : \n",
            " [[1 2 3]\n",
            " [4 5 6]] \n",
            "y: \n",
            " [[ 7  8  9]\n",
            " [10 11 12]] \n",
            "\n",
            "Resulting array:\n",
            " [[ 1  2  3  7  8  9]\n",
            " [ 4  5  6 10 11 12]]\n"
          ]
        }
      ]
    },
    {
      "cell_type": "markdown",
      "source": [
        "<font size=5> 1D Array."
      ],
      "metadata": {
        "id": "URIA9ibpg-Ob"
      }
    },
    {
      "cell_type": "code",
      "source": [
        "# 1D\n",
        "import numpy as np\n",
        "n1 = ([1,2,3,4])\n",
        "n2 = ([5,6,7,8])\n",
        "print(f\"n1 : \\n {n1} \\nn2: \\n {n2}  \\n\")\n",
        "print(\"for axis=0:\\n\",np.concatenate((n1,n2),axis=0),\"\\n\")"
      ],
      "metadata": {
        "colab": {
          "base_uri": "https://localhost:8080/"
        },
        "id": "VgY2Wy7-hAP8",
        "outputId": "08b2cb24-e6cf-45be-87e3-173ea77ff6e6"
      },
      "execution_count": null,
      "outputs": [
        {
          "output_type": "stream",
          "name": "stdout",
          "text": [
            "n1 : \n",
            " [1, 2, 3, 4] \n",
            "n2: \n",
            " [5, 6, 7, 8]  \n",
            "\n",
            "for axis=0:\n",
            " [1 2 3 4 5 6 7 8] \n",
            "\n"
          ]
        }
      ]
    },
    {
      "cell_type": "code",
      "source": [
        "print(f\"n1 : \\n {n1} \\nn2: \\n {n2}  \\n\")\n",
        "print(\"for axis=1:\\n\",np.concatenate((n1,n2),axis=1),\"\\n\")"
      ],
      "metadata": {
        "colab": {
          "base_uri": "https://localhost:8080/",
          "height": 314
        },
        "id": "vP7TC-lUhpEl",
        "outputId": "98299494-b664-493f-e2c8-f4af9f33b5d5"
      },
      "execution_count": null,
      "outputs": [
        {
          "output_type": "stream",
          "name": "stdout",
          "text": [
            "n1 : \n",
            " [1, 2, 3, 4] \n",
            "n2: \n",
            " [5, 6, 7, 8]  \n",
            "\n"
          ]
        },
        {
          "output_type": "error",
          "ename": "AxisError",
          "evalue": "ignored",
          "traceback": [
            "\u001b[0;31m---------------------------------------------------------------------------\u001b[0m",
            "\u001b[0;31mAxisError\u001b[0m                                 Traceback (most recent call last)",
            "\u001b[0;32m<ipython-input-9-8f4c24115af9>\u001b[0m in \u001b[0;36m<cell line: 2>\u001b[0;34m()\u001b[0m\n\u001b[1;32m      1\u001b[0m \u001b[0mprint\u001b[0m\u001b[0;34m(\u001b[0m\u001b[0;34mf\"n1 : \\n {n1} \\nn2: \\n {n2}  \\n\"\u001b[0m\u001b[0;34m)\u001b[0m\u001b[0;34m\u001b[0m\u001b[0;34m\u001b[0m\u001b[0m\n\u001b[0;32m----> 2\u001b[0;31m \u001b[0mprint\u001b[0m\u001b[0;34m(\u001b[0m\u001b[0;34m\"for axis=1:\\n\"\u001b[0m\u001b[0;34m,\u001b[0m\u001b[0mnp\u001b[0m\u001b[0;34m.\u001b[0m\u001b[0mconcatenate\u001b[0m\u001b[0;34m(\u001b[0m\u001b[0;34m(\u001b[0m\u001b[0mn1\u001b[0m\u001b[0;34m,\u001b[0m\u001b[0mn2\u001b[0m\u001b[0;34m)\u001b[0m\u001b[0;34m,\u001b[0m\u001b[0maxis\u001b[0m\u001b[0;34m=\u001b[0m\u001b[0;36m1\u001b[0m\u001b[0;34m)\u001b[0m\u001b[0;34m,\u001b[0m\u001b[0;34m\"\\n\"\u001b[0m\u001b[0;34m)\u001b[0m\u001b[0;34m\u001b[0m\u001b[0;34m\u001b[0m\u001b[0m\n\u001b[0m",
            "\u001b[0;32m/usr/local/lib/python3.10/dist-packages/numpy/core/overrides.py\u001b[0m in \u001b[0;36mconcatenate\u001b[0;34m(*args, **kwargs)\u001b[0m\n",
            "\u001b[0;31mAxisError\u001b[0m: axis 1 is out of bounds for array of dimension 1"
          ]
        }
      ]
    },
    {
      "cell_type": "markdown",
      "source": [
        "# hstack and vstack."
      ],
      "metadata": {
        "id": "zKVDfHxxlD1h"
      }
    },
    {
      "cell_type": "code",
      "source": [
        "# 2D array.\n",
        "import numpy as np\n",
        "x = np.array([[1,2,3],\n",
        "              [4,5,6]])\n",
        "y = np.array([[7,8,9],\n",
        "              [10,11,12]])"
      ],
      "metadata": {
        "id": "X-dWPMMWpACZ"
      },
      "execution_count": null,
      "outputs": []
    },
    {
      "cell_type": "code",
      "source": [
        "np.hstack((x,y))  # np.concatenate((x,y),axis=1)"
      ],
      "metadata": {
        "colab": {
          "base_uri": "https://localhost:8080/"
        },
        "id": "1V1-7fg-qIun",
        "outputId": "778192bc-2b93-4032-c2bf-dfb255e11c76"
      },
      "execution_count": null,
      "outputs": [
        {
          "output_type": "execute_result",
          "data": {
            "text/plain": [
              "array([[ 1,  2,  3,  7,  8,  9],\n",
              "       [ 4,  5,  6, 10, 11, 12]])"
            ]
          },
          "metadata": {},
          "execution_count": 17
        }
      ]
    },
    {
      "cell_type": "code",
      "source": [
        "np.vstack((x,y))  # np.concatenate((x,y),axis=0)"
      ],
      "metadata": {
        "colab": {
          "base_uri": "https://localhost:8080/"
        },
        "id": "RI-Ui_0pqg93",
        "outputId": "9c35294a-c921-431d-975d-e82749cd1de2"
      },
      "execution_count": null,
      "outputs": [
        {
          "output_type": "execute_result",
          "data": {
            "text/plain": [
              "array([[ 1,  2,  3],\n",
              "       [ 4,  5,  6],\n",
              "       [ 7,  8,  9],\n",
              "       [10, 11, 12]])"
            ]
          },
          "metadata": {},
          "execution_count": 19
        }
      ]
    },
    {
      "cell_type": "code",
      "source": [
        "# 1D array.\n",
        "n1 = np.array([1,2,3,4])\n",
        "n2 = np.array([5,6,7,8])"
      ],
      "metadata": {
        "id": "00PhTDxSqt7I"
      },
      "execution_count": null,
      "outputs": []
    },
    {
      "cell_type": "code",
      "source": [
        "np.hstack((n1,n2))  # np.concatenate((n1,n2),axis=0)"
      ],
      "metadata": {
        "colab": {
          "base_uri": "https://localhost:8080/"
        },
        "id": "5Ud381M6q_z9",
        "outputId": "972d77d9-d0cd-465b-90d6-6965690900eb"
      },
      "execution_count": null,
      "outputs": [
        {
          "output_type": "execute_result",
          "data": {
            "text/plain": [
              "array([1, 2, 3, 4, 5, 6, 7, 8])"
            ]
          },
          "metadata": {},
          "execution_count": 22
        }
      ]
    },
    {
      "cell_type": "code",
      "source": [
        "np.vstack((n1,n2))  # np.stack((n1,n2),axis=0)"
      ],
      "metadata": {
        "colab": {
          "base_uri": "https://localhost:8080/"
        },
        "id": "cLr4f0rDq82a",
        "outputId": "4882e8ed-e406-465f-fe36-3ca923716791"
      },
      "execution_count": null,
      "outputs": [
        {
          "output_type": "execute_result",
          "data": {
            "text/plain": [
              "array([[1, 2, 3, 4],\n",
              "       [5, 6, 7, 8]])"
            ]
          },
          "metadata": {},
          "execution_count": 23
        }
      ]
    },
    {
      "cell_type": "markdown",
      "source": [
        "# Indexing,Slicing & Striding."
      ],
      "metadata": {
        "id": "vEm-2FOwo849"
      }
    },
    {
      "cell_type": "code",
      "source": [
        "import numpy as np"
      ],
      "metadata": {
        "id": "FrE2yQsalJUu"
      },
      "execution_count": null,
      "outputs": []
    },
    {
      "cell_type": "code",
      "source": [
        "# 1D\n",
        "# (AXIS 0,)\n",
        "# (COLUMN,)\n",
        "# (0D,)\n",
        "x = np.array([1,2,3,4])\n",
        "print(x[3])\n",
        "print(x[0])"
      ],
      "metadata": {
        "colab": {
          "base_uri": "https://localhost:8080/"
        },
        "id": "GaAQ7bSXrafx",
        "outputId": "cc47d0e4-415b-4e56-b7b8-f9d091da8b67"
      },
      "execution_count": null,
      "outputs": [
        {
          "output_type": "stream",
          "name": "stdout",
          "text": [
            "4\n",
            "1\n"
          ]
        }
      ]
    },
    {
      "cell_type": "code",
      "source": [
        "# 2D\n",
        "# (AXIS 0,AXIS 1)\n",
        "# (ROWS , COLUMNS)\n",
        "# (1D, 0D)\n",
        "x = np.array([[1,2,3,4],\n",
        "              [5,6,7,8]])\n",
        "x[0,1] # prefeered way.]"
      ],
      "metadata": {
        "colab": {
          "base_uri": "https://localhost:8080/"
        },
        "id": "dSXHhGORrpr-",
        "outputId": "b823b51f-24ea-4b07-c218-ee3da1a7be57"
      },
      "execution_count": null,
      "outputs": [
        {
          "output_type": "execute_result",
          "data": {
            "text/plain": [
              "2"
            ]
          },
          "metadata": {},
          "execution_count": 5
        }
      ]
    },
    {
      "cell_type": "code",
      "source": [
        "x[0][1] # alternative way."
      ],
      "metadata": {
        "colab": {
          "base_uri": "https://localhost:8080/"
        },
        "id": "KRCS0F7csUC0",
        "outputId": "424923d6-248f-417b-c579-ea4fae40889e"
      },
      "execution_count": null,
      "outputs": [
        {
          "output_type": "execute_result",
          "data": {
            "text/plain": [
              "2"
            ]
          },
          "metadata": {},
          "execution_count": 6
        }
      ]
    },
    {
      "cell_type": "code",
      "source": [
        "x[-2,-3]"
      ],
      "metadata": {
        "colab": {
          "base_uri": "https://localhost:8080/"
        },
        "id": "bQLtgTeoszTd",
        "outputId": "9b6f6856-7c4f-4f7d-dd85-a2ba20955c59"
      },
      "execution_count": null,
      "outputs": [
        {
          "output_type": "execute_result",
          "data": {
            "text/plain": [
              "2"
            ]
          },
          "metadata": {},
          "execution_count": 8
        }
      ]
    },
    {
      "cell_type": "code",
      "source": [
        "import numpy as np"
      ],
      "metadata": {
        "id": "vOIkmjbLNPlO"
      },
      "execution_count": null,
      "outputs": []
    },
    {
      "cell_type": "code",
      "source": [
        "# 3D\n",
        "# (AXIS 0,AXIS 1,AXIS 2)\n",
        "# (2D , 1D, 0D)\n",
        "x = np.array([[[1,2,3,4],\n",
        "               [5,6,7,8]],\n",
        "              [[9,10,11,12],\n",
        "               [13,14,15,16]]])\n",
        "x[0]"
      ],
      "metadata": {
        "colab": {
          "base_uri": "https://localhost:8080/"
        },
        "id": "-j31jyYdG5Gl",
        "outputId": "ee611451-453e-4e28-c7be-8e727a90208d"
      },
      "execution_count": null,
      "outputs": [
        {
          "output_type": "execute_result",
          "data": {
            "text/plain": [
              "array([[1, 2, 3, 4],\n",
              "       [5, 6, 7, 8]])"
            ]
          },
          "metadata": {},
          "execution_count": 16
        }
      ]
    },
    {
      "cell_type": "code",
      "source": [
        "x[0,0]"
      ],
      "metadata": {
        "colab": {
          "base_uri": "https://localhost:8080/"
        },
        "id": "B4TrSoGtNNc7",
        "outputId": "0bbbce8a-6b52-413a-d8ba-a12bb93b8aac"
      },
      "execution_count": null,
      "outputs": [
        {
          "output_type": "execute_result",
          "data": {
            "text/plain": [
              "array([1, 2, 3, 4])"
            ]
          },
          "metadata": {},
          "execution_count": 17
        }
      ]
    },
    {
      "cell_type": "code",
      "source": [
        "x[0,0,0]"
      ],
      "metadata": {
        "colab": {
          "base_uri": "https://localhost:8080/"
        },
        "id": "O3dEv_xTNT5Y",
        "outputId": "c1b4face-abf4-400b-ac1d-15ee7b96b8ea"
      },
      "execution_count": null,
      "outputs": [
        {
          "output_type": "execute_result",
          "data": {
            "text/plain": [
              "1"
            ]
          },
          "metadata": {},
          "execution_count": 18
        }
      ]
    },
    {
      "cell_type": "code",
      "source": [
        "x[1,0,2]"
      ],
      "metadata": {
        "colab": {
          "base_uri": "https://localhost:8080/"
        },
        "id": "nrhzI8q3NVsM",
        "outputId": "61c4c99f-4e2e-4b7f-fc4a-4ad897f818ec"
      },
      "execution_count": null,
      "outputs": [
        {
          "output_type": "execute_result",
          "data": {
            "text/plain": [
              "11"
            ]
          },
          "metadata": {},
          "execution_count": 21
        }
      ]
    },
    {
      "cell_type": "code",
      "source": [
        "x[1,1,1]"
      ],
      "metadata": {
        "colab": {
          "base_uri": "https://localhost:8080/"
        },
        "id": "g0KM9_O0NaIP",
        "outputId": "14e73432-9e5a-4e6b-f1d7-5647d5cea676"
      },
      "execution_count": null,
      "outputs": [
        {
          "output_type": "execute_result",
          "data": {
            "text/plain": [
              "14"
            ]
          },
          "metadata": {},
          "execution_count": 24
        }
      ]
    },
    {
      "cell_type": "markdown",
      "source": [
        "- Striding.\n",
        "\n",
        "  Start(inclusive):stop(exclusive):step"
      ],
      "metadata": {
        "id": "WxHRO1dWOngd"
      }
    },
    {
      "cell_type": "code",
      "source": [
        "# 1D\n",
        "x = np.array([1,2,3,4])\n",
        "x[0:4:2]"
      ],
      "metadata": {
        "colab": {
          "base_uri": "https://localhost:8080/"
        },
        "id": "RwiGOoaxOqcC",
        "outputId": "b1db555b-bfb9-4229-b95b-8c7d1d6569e8"
      },
      "execution_count": null,
      "outputs": [
        {
          "output_type": "execute_result",
          "data": {
            "text/plain": [
              "array([1, 3])"
            ]
          },
          "metadata": {},
          "execution_count": 25
        }
      ]
    },
    {
      "cell_type": "code",
      "source": [
        "# 2D\n",
        "y = np.array([[1,2,3,4],\n",
        "              [5,6,7,8],\n",
        "              [4,2,5,6],\n",
        "              [2,5,3,6]])\n",
        "y[::2]"
      ],
      "metadata": {
        "colab": {
          "base_uri": "https://localhost:8080/"
        },
        "id": "UPX_zBGDRAYI",
        "outputId": "1ea74ad6-061b-47ae-fc68-611184cd0b41"
      },
      "execution_count": null,
      "outputs": [
        {
          "output_type": "execute_result",
          "data": {
            "text/plain": [
              "array([[1, 2, 3, 4],\n",
              "       [4, 2, 5, 6]])"
            ]
          },
          "metadata": {},
          "execution_count": 28
        }
      ]
    },
    {
      "cell_type": "code",
      "source": [
        "y[::3]"
      ],
      "metadata": {
        "colab": {
          "base_uri": "https://localhost:8080/"
        },
        "id": "jQCVXP46RSOb",
        "outputId": "9654dc3e-0452-4085-9ffc-6e2c742c01c5"
      },
      "execution_count": null,
      "outputs": [
        {
          "output_type": "execute_result",
          "data": {
            "text/plain": [
              "array([[1, 2, 3, 4],\n",
              "       [2, 5, 3, 6]])"
            ]
          },
          "metadata": {},
          "execution_count": 29
        }
      ]
    },
    {
      "cell_type": "code",
      "source": [
        "y[::4]"
      ],
      "metadata": {
        "colab": {
          "base_uri": "https://localhost:8080/"
        },
        "id": "YQGIPFtGReFS",
        "outputId": "275e8c45-80e1-40e9-b821-b204745ede45"
      },
      "execution_count": null,
      "outputs": [
        {
          "output_type": "execute_result",
          "data": {
            "text/plain": [
              "array([[1, 2, 3, 4]])"
            ]
          },
          "metadata": {},
          "execution_count": 30
        }
      ]
    },
    {
      "cell_type": "code",
      "source": [
        "y[::1]"
      ],
      "metadata": {
        "colab": {
          "base_uri": "https://localhost:8080/"
        },
        "id": "qegmUQLmRhzm",
        "outputId": "f9024c11-4813-49f4-9afb-4ab59a842e79"
      },
      "execution_count": null,
      "outputs": [
        {
          "output_type": "execute_result",
          "data": {
            "text/plain": [
              "array([[1, 2, 3, 4],\n",
              "       [5, 6, 7, 8],\n",
              "       [4, 2, 5, 6],\n",
              "       [2, 5, 3, 6]])"
            ]
          },
          "metadata": {},
          "execution_count": 31
        }
      ]
    },
    {
      "cell_type": "code",
      "source": [
        "y[::]"
      ],
      "metadata": {
        "colab": {
          "base_uri": "https://localhost:8080/"
        },
        "id": "WDfqKtl0Rl9c",
        "outputId": "3be69be4-7855-456f-b2ef-7895e8dec1f6"
      },
      "execution_count": null,
      "outputs": [
        {
          "output_type": "execute_result",
          "data": {
            "text/plain": [
              "array([[1, 2, 3, 4],\n",
              "       [5, 6, 7, 8],\n",
              "       [4, 2, 5, 6],\n",
              "       [2, 5, 3, 6]])"
            ]
          },
          "metadata": {},
          "execution_count": 32
        }
      ]
    },
    {
      "cell_type": "code",
      "source": [
        "y[::-2]"
      ],
      "metadata": {
        "colab": {
          "base_uri": "https://localhost:8080/"
        },
        "id": "oHfhOp7zRo6r",
        "outputId": "86d9e041-c937-4f49-eddd-52f4592d9486"
      },
      "execution_count": null,
      "outputs": [
        {
          "output_type": "execute_result",
          "data": {
            "text/plain": [
              "array([[2, 5, 3, 6],\n",
              "       [5, 6, 7, 8]])"
            ]
          },
          "metadata": {},
          "execution_count": 33
        }
      ]
    },
    {
      "cell_type": "code",
      "source": [
        "r = np.array([[[1,2,3,4],\n",
        "               [4,5,6,7],\n",
        "               [2,3,1,4],\n",
        "               [6,5,3,4]]])"
      ],
      "metadata": {
        "id": "XqRSXdhlR4ou"
      },
      "execution_count": null,
      "outputs": []
    },
    {
      "cell_type": "code",
      "source": [
        "r[1:3,1:3]"
      ],
      "metadata": {
        "colab": {
          "base_uri": "https://localhost:8080/"
        },
        "id": "OR-gQ0eHjlUZ",
        "outputId": "aafde4fb-431a-496c-d499-811f08fd6266"
      },
      "execution_count": null,
      "outputs": [
        {
          "output_type": "execute_result",
          "data": {
            "text/plain": [
              "array([], shape=(0, 2, 4), dtype=int64)"
            ]
          },
          "metadata": {},
          "execution_count": 19
        }
      ]
    },
    {
      "cell_type": "code",
      "source": [
        "r[::1]"
      ],
      "metadata": {
        "colab": {
          "base_uri": "https://localhost:8080/"
        },
        "id": "lrpkMs4bSPb8",
        "outputId": "2a845c56-50ce-4364-cc56-0a3e18bff535"
      },
      "execution_count": null,
      "outputs": [
        {
          "output_type": "execute_result",
          "data": {
            "text/plain": [
              "array([[[1, 2, 3, 4],\n",
              "        [4, 5, 6, 7],\n",
              "        [2, 3, 1, 4],\n",
              "        [6, 5, 3, 4]]])"
            ]
          },
          "metadata": {},
          "execution_count": 43
        }
      ]
    },
    {
      "cell_type": "markdown",
      "source": [
        "- Slicing."
      ],
      "metadata": {
        "id": "Z7lG5Lt-gowl"
      }
    },
    {
      "cell_type": "code",
      "source": [
        "# 2D\n",
        "x = np.array([[1,2,3]\n",
        "              [4,5,6]])\n",
        "x[0:2,0:2]"
      ],
      "metadata": {
        "colab": {
          "base_uri": "https://localhost:8080/"
        },
        "id": "MuVeWJXVgqYK",
        "outputId": "f5c138f8-87cd-45de-9d37-2e2809af7190"
      },
      "execution_count": null,
      "outputs": [
        {
          "output_type": "execute_result",
          "data": {
            "text/plain": [
              "array([[1, 2],\n",
              "       [4, 5]])"
            ]
          },
          "metadata": {},
          "execution_count": 4
        }
      ]
    },
    {
      "cell_type": "code",
      "source": [
        "x[0:2,0]"
      ],
      "metadata": {
        "colab": {
          "base_uri": "https://localhost:8080/"
        },
        "id": "JjOQcz2rg8gJ",
        "outputId": "b5f022e4-1460-409c-d657-1b73575a86db"
      },
      "execution_count": null,
      "outputs": [
        {
          "output_type": "execute_result",
          "data": {
            "text/plain": [
              "array([1, 4])"
            ]
          },
          "metadata": {},
          "execution_count": 5
        }
      ]
    },
    {
      "cell_type": "code",
      "source": [
        "x[:,1]"
      ],
      "metadata": {
        "colab": {
          "base_uri": "https://localhost:8080/"
        },
        "id": "_lHl50bMg_z5",
        "outputId": "483c02c3-e140-47be-c307-74013f11fe45"
      },
      "execution_count": null,
      "outputs": [
        {
          "output_type": "execute_result",
          "data": {
            "text/plain": [
              "array([2, 5])"
            ]
          },
          "metadata": {},
          "execution_count": 7
        }
      ]
    },
    {
      "cell_type": "code",
      "source": [
        "x[:,0]"
      ],
      "metadata": {
        "colab": {
          "base_uri": "https://localhost:8080/"
        },
        "id": "J1l-c3XHhDub",
        "outputId": "1985e8e1-4ada-4e13-bad8-87d5deb78e0e"
      },
      "execution_count": null,
      "outputs": [
        {
          "output_type": "execute_result",
          "data": {
            "text/plain": [
              "array([1, 4])"
            ]
          },
          "metadata": {},
          "execution_count": 10
        }
      ]
    },
    {
      "cell_type": "code",
      "source": [
        "x[::,0:2]"
      ],
      "metadata": {
        "colab": {
          "base_uri": "https://localhost:8080/"
        },
        "id": "glLy0d6-hXdR",
        "outputId": "9e8a6ea4-a7a1-436f-a753-ce3dc1d4d9c6"
      },
      "execution_count": null,
      "outputs": [
        {
          "output_type": "execute_result",
          "data": {
            "text/plain": [
              "array([[1, 2],\n",
              "       [4, 5]])"
            ]
          },
          "metadata": {},
          "execution_count": 11
        }
      ]
    },
    {
      "cell_type": "code",
      "source": [
        "x = np.array([[1,2,3,4],\n",
        "              [5,6,7,8],\n",
        "              [9,10,11,12],\n",
        "              [-1,-2,-3,-4]])"
      ],
      "metadata": {
        "id": "dj-pd_WahkVg"
      },
      "execution_count": null,
      "outputs": []
    },
    {
      "cell_type": "code",
      "source": [
        "x"
      ],
      "metadata": {
        "colab": {
          "base_uri": "https://localhost:8080/"
        },
        "id": "8_oFj5YkkOvG",
        "outputId": "4f97b141-8682-4d42-ed05-8dda982b750c"
      },
      "execution_count": null,
      "outputs": [
        {
          "output_type": "execute_result",
          "data": {
            "text/plain": [
              "array([[ 1,  2,  3,  4],\n",
              "       [ 5,  6,  7,  8],\n",
              "       [ 9, 10, 11, 12],\n",
              "       [-1, -2, -3, -4]])"
            ]
          },
          "metadata": {},
          "execution_count": 15
        }
      ]
    },
    {
      "cell_type": "code",
      "source": [
        "x[1:3,1:3]"
      ],
      "metadata": {
        "colab": {
          "base_uri": "https://localhost:8080/"
        },
        "id": "Unb-K7N_kPp0",
        "outputId": "61f85f23-1ab5-4b7d-e31e-519d56619e6f"
      },
      "execution_count": null,
      "outputs": [
        {
          "output_type": "execute_result",
          "data": {
            "text/plain": [
              "array([[ 6,  7],\n",
              "       [10, 11]])"
            ]
          },
          "metadata": {},
          "execution_count": 17
        }
      ]
    },
    {
      "cell_type": "code",
      "source": [
        "x[3,1:3]"
      ],
      "metadata": {
        "colab": {
          "base_uri": "https://localhost:8080/"
        },
        "id": "yDT55cYQkSCt",
        "outputId": "b1f04273-4a3a-4486-a195-d596265ec1b6"
      },
      "execution_count": null,
      "outputs": [
        {
          "output_type": "execute_result",
          "data": {
            "text/plain": [
              "array([-2, -3])"
            ]
          },
          "metadata": {},
          "execution_count": 21
        }
      ]
    },
    {
      "cell_type": "code",
      "source": [
        "x[3,3]"
      ],
      "metadata": {
        "colab": {
          "base_uri": "https://localhost:8080/"
        },
        "id": "DgTos-BcmpwQ",
        "outputId": "4106f95d-77ac-484c-ef3a-01552f1c22d8"
      },
      "execution_count": null,
      "outputs": [
        {
          "output_type": "execute_result",
          "data": {
            "text/plain": [
              "-4"
            ]
          },
          "metadata": {},
          "execution_count": 23
        }
      ]
    },
    {
      "cell_type": "code",
      "source": [
        "x[1:3,3]"
      ],
      "metadata": {
        "colab": {
          "base_uri": "https://localhost:8080/"
        },
        "id": "IlgVuZa6luws",
        "outputId": "7f84a61e-b3b2-4849-9bf9-cac3f52ecf50"
      },
      "execution_count": null,
      "outputs": [
        {
          "output_type": "execute_result",
          "data": {
            "text/plain": [
              "array([ 8, 12])"
            ]
          },
          "metadata": {},
          "execution_count": 22
        }
      ]
    },
    {
      "cell_type": "code",
      "source": [
        "x[1:3,0]"
      ],
      "metadata": {
        "colab": {
          "base_uri": "https://localhost:8080/"
        },
        "id": "cXK1UNeXmKZy",
        "outputId": "b1f47f03-5ef9-4c4f-d1b2-d6da41c0bec2"
      },
      "execution_count": null,
      "outputs": [
        {
          "output_type": "execute_result",
          "data": {
            "text/plain": [
              "array([5, 9])"
            ]
          },
          "metadata": {},
          "execution_count": 24
        }
      ]
    },
    {
      "cell_type": "code",
      "source": [
        "# 3D\n",
        "y = np.array([[[1,2],\n",
        "               [3,4],\n",
        "               [5,6]],\n",
        "              [[7,8],\n",
        "               [9,10],\n",
        "               [11,12]]])"
      ],
      "metadata": {
        "id": "EJANZIxYnGTS"
      },
      "execution_count": null,
      "outputs": []
    },
    {
      "cell_type": "code",
      "source": [
        "y"
      ],
      "metadata": {
        "colab": {
          "base_uri": "https://localhost:8080/"
        },
        "id": "9dxYxhHSpcO4",
        "outputId": "a08f6966-1955-4d84-c7a1-824db336fb7c"
      },
      "execution_count": null,
      "outputs": [
        {
          "output_type": "execute_result",
          "data": {
            "text/plain": [
              "array([[[ 1,  2],\n",
              "        [ 3,  4],\n",
              "        [ 5,  6]],\n",
              "\n",
              "       [[ 7,  8],\n",
              "        [ 9, 10],\n",
              "        [11, 12]]])"
            ]
          },
          "metadata": {},
          "execution_count": 29
        }
      ]
    },
    {
      "cell_type": "code",
      "source": [
        "y[0,0:2,0:2]"
      ],
      "metadata": {
        "colab": {
          "base_uri": "https://localhost:8080/"
        },
        "id": "JfnuJ4Bbpqdw",
        "outputId": "4fcb041d-e0fd-449c-8ed8-c28c2b75eb44"
      },
      "execution_count": null,
      "outputs": [
        {
          "output_type": "execute_result",
          "data": {
            "text/plain": [
              "array([[1, 2],\n",
              "       [3, 4]])"
            ]
          },
          "metadata": {},
          "execution_count": 30
        }
      ]
    },
    {
      "cell_type": "code",
      "source": [
        "y[1,0:2,0:2]"
      ],
      "metadata": {
        "colab": {
          "base_uri": "https://localhost:8080/"
        },
        "id": "VxuXXdrhpxS1",
        "outputId": "6b1cdef8-918b-41b8-87c4-e56796124ace"
      },
      "execution_count": null,
      "outputs": [
        {
          "output_type": "execute_result",
          "data": {
            "text/plain": [
              "array([[ 7,  8],\n",
              "       [ 9, 10]])"
            ]
          },
          "metadata": {},
          "execution_count": 32
        }
      ]
    },
    {
      "cell_type": "markdown",
      "source": [
        "# Arithmetic with NumPy."
      ],
      "metadata": {
        "id": "meAa514OnXR_"
      }
    },
    {
      "cell_type": "markdown",
      "source": [
        "- ***Any operation between equal-size arrays happens element-wise.***"
      ],
      "metadata": {
        "id": "8zI_r_v_nhS_"
      }
    },
    {
      "cell_type": "code",
      "source": [
        "import numpy as np"
      ],
      "metadata": {
        "id": "1VPjclHgnaul"
      },
      "execution_count": null,
      "outputs": []
    },
    {
      "cell_type": "code",
      "source": [
        "a = np.array([[1,2,3],\n",
        "              [4,5,6]])\n",
        "b = np.array([[2,3,4],\n",
        "              [5,6,7]])\n",
        "(a+b)     # adding an arrays element-wise."
      ],
      "metadata": {
        "colab": {
          "base_uri": "https://localhost:8080/"
        },
        "id": "971a7fzUnyvo",
        "outputId": "048776ec-5ab9-4034-a6a1-02a7ccc0967c"
      },
      "execution_count": null,
      "outputs": [
        {
          "output_type": "execute_result",
          "data": {
            "text/plain": [
              "array([[ 3,  5,  7],\n",
              "       [ 9, 11, 13]])"
            ]
          },
          "metadata": {},
          "execution_count": 33
        }
      ]
    },
    {
      "cell_type": "code",
      "source": [
        "(a*b)     # Multiplying an arrays element-wise."
      ],
      "metadata": {
        "colab": {
          "base_uri": "https://localhost:8080/"
        },
        "id": "DzqImVa5n9-c",
        "outputId": "53be1fa4-393a-4f70-f506-9249b6043f5a"
      },
      "execution_count": null,
      "outputs": [
        {
          "output_type": "execute_result",
          "data": {
            "text/plain": [
              "array([[ 2,  6, 12],\n",
              "       [20, 30, 42]])"
            ]
          },
          "metadata": {},
          "execution_count": 30
        }
      ]
    },
    {
      "cell_type": "code",
      "source": [
        "(a-b)     # Subtracting an arrays element-wise."
      ],
      "metadata": {
        "colab": {
          "base_uri": "https://localhost:8080/"
        },
        "id": "GBq91vLHoASN",
        "outputId": "8d0ff7c5-ad72-4743-858c-8ada2f0e05b0"
      },
      "execution_count": null,
      "outputs": [
        {
          "output_type": "execute_result",
          "data": {
            "text/plain": [
              "array([[-1, -1, -1],\n",
              "       [-1, -1, -1]])"
            ]
          },
          "metadata": {},
          "execution_count": 31
        }
      ]
    },
    {
      "cell_type": "code",
      "source": [
        "(a/b)     # Dividing an arrays element-wise."
      ],
      "metadata": {
        "colab": {
          "base_uri": "https://localhost:8080/"
        },
        "id": "onyhWTLPoSE8",
        "outputId": "7a302a4f-17bf-4d6c-bfaf-21e14cc66e03"
      },
      "execution_count": null,
      "outputs": [
        {
          "output_type": "execute_result",
          "data": {
            "text/plain": [
              "array([[0.5       , 0.66666667, 0.75      ],\n",
              "       [0.8       , 0.83333333, 0.85714286]])"
            ]
          },
          "metadata": {},
          "execution_count": 32
        }
      ]
    },
    {
      "cell_type": "code",
      "source": [
        "b-a"
      ],
      "metadata": {
        "colab": {
          "base_uri": "https://localhost:8080/"
        },
        "id": "kRSq7LUhoXvQ",
        "outputId": "15caea6e-1927-4f54-d05b-faed8cb8a6c1"
      },
      "execution_count": null,
      "outputs": [
        {
          "output_type": "execute_result",
          "data": {
            "text/plain": [
              "array([[1, 1, 1],\n",
              "       [1, 1, 1]])"
            ]
          },
          "metadata": {},
          "execution_count": 26
        }
      ]
    },
    {
      "cell_type": "code",
      "source": [
        "b/a"
      ],
      "metadata": {
        "colab": {
          "base_uri": "https://localhost:8080/"
        },
        "id": "jPo9QZdvpBKP",
        "outputId": "069cdb46-8bc6-4327-c738-584299627c8a"
      },
      "execution_count": null,
      "outputs": [
        {
          "output_type": "execute_result",
          "data": {
            "text/plain": [
              "array([[2.        , 1.5       , 1.33333333],\n",
              "       [1.25      , 1.2       , 1.16666667]])"
            ]
          },
          "metadata": {},
          "execution_count": 27
        }
      ]
    },
    {
      "cell_type": "markdown",
      "source": [
        "Arithmetic operations with scalars propogate the scalar argument to each element in the array.\n",
        "\n",
        "Operattions Between differently sized arrays is called broadcasting."
      ],
      "metadata": {
        "id": "RLyyxGk1rLM2"
      }
    },
    {
      "cell_type": "code",
      "source": [
        "(a*2)    # Broadcasting."
      ],
      "metadata": {
        "colab": {
          "base_uri": "https://localhost:8080/"
        },
        "id": "hU5G6YhNrKho",
        "outputId": "afd7665b-e993-4a00-e8c8-bb3daca37a84"
      },
      "execution_count": null,
      "outputs": [
        {
          "output_type": "execute_result",
          "data": {
            "text/plain": [
              "array([[ 2,  4,  6],\n",
              "       [ 8, 10, 12]])"
            ]
          },
          "metadata": {},
          "execution_count": 35
        }
      ]
    },
    {
      "cell_type": "code",
      "source": [
        "(b*3)"
      ],
      "metadata": {
        "colab": {
          "base_uri": "https://localhost:8080/"
        },
        "id": "ZyVFFrKDrlI7",
        "outputId": "4a867083-c360-4f5b-ad25-cd1388cabcf1"
      },
      "execution_count": null,
      "outputs": [
        {
          "output_type": "execute_result",
          "data": {
            "text/plain": [
              "array([[ 6,  9, 12],\n",
              "       [15, 18, 21]])"
            ]
          },
          "metadata": {},
          "execution_count": 36
        }
      ]
    },
    {
      "cell_type": "code",
      "source": [
        "(a-2)"
      ],
      "metadata": {
        "colab": {
          "base_uri": "https://localhost:8080/"
        },
        "id": "ih5LKKAorqR8",
        "outputId": "1f235c85-d4a6-4ff4-c0cb-f118524ad5f2"
      },
      "execution_count": null,
      "outputs": [
        {
          "output_type": "execute_result",
          "data": {
            "text/plain": [
              "array([[-1,  0,  1],\n",
              "       [ 2,  3,  4]])"
            ]
          },
          "metadata": {},
          "execution_count": 37
        }
      ]
    },
    {
      "cell_type": "code",
      "source": [
        "(b+4)"
      ],
      "metadata": {
        "colab": {
          "base_uri": "https://localhost:8080/"
        },
        "id": "90pM27lrrucK",
        "outputId": "65f18415-c8a4-4c2f-c2b0-1b3810a0cc34"
      },
      "execution_count": null,
      "outputs": [
        {
          "output_type": "execute_result",
          "data": {
            "text/plain": [
              "array([[ 6,  7,  8],\n",
              "       [ 9, 10, 11]])"
            ]
          },
          "metadata": {},
          "execution_count": 38
        }
      ]
    },
    {
      "cell_type": "markdown",
      "source": [
        "# Universal Function."
      ],
      "metadata": {
        "id": "4xTlkSK_tGM3"
      }
    },
    {
      "cell_type": "markdown",
      "source": [
        "A universal function, or ufunc, is a function that perform element-wise operations on data in ndarrays."
      ],
      "metadata": {
        "id": "tkFEaGJU0Ae5"
      }
    },
    {
      "cell_type": "code",
      "source": [
        "a = np.array([1,2,3,4])\n",
        "b = np.array([5,6,7,8])\n",
        "np.add(a,b)  # or a+b"
      ],
      "metadata": {
        "colab": {
          "base_uri": "https://localhost:8080/"
        },
        "id": "qOUUUvGtryES",
        "outputId": "06615117-fc68-45e6-a8a1-173873ea5ad2"
      },
      "execution_count": null,
      "outputs": [
        {
          "output_type": "execute_result",
          "data": {
            "text/plain": [
              "array([ 6,  8, 10, 12])"
            ]
          },
          "metadata": {},
          "execution_count": 40
        }
      ]
    },
    {
      "cell_type": "code",
      "source": [
        "np.subtract(b,a)  # or b-a"
      ],
      "metadata": {
        "colab": {
          "base_uri": "https://localhost:8080/"
        },
        "id": "ikYe1C5ttmwc",
        "outputId": "94355035-73a2-4b00-c77c-90ea6871b709"
      },
      "execution_count": null,
      "outputs": [
        {
          "output_type": "execute_result",
          "data": {
            "text/plain": [
              "array([4, 4, 4, 4])"
            ]
          },
          "metadata": {},
          "execution_count": 41
        }
      ]
    },
    {
      "cell_type": "code",
      "source": [
        "np.multiply(a,b)  # or a*b"
      ],
      "metadata": {
        "colab": {
          "base_uri": "https://localhost:8080/"
        },
        "id": "X-FlyhFhtuY0",
        "outputId": "616e190a-ff6e-4b8f-9fe4-c934905714a1"
      },
      "execution_count": null,
      "outputs": [
        {
          "output_type": "execute_result",
          "data": {
            "text/plain": [
              "array([ 5, 12, 21, 32])"
            ]
          },
          "metadata": {},
          "execution_count": 42
        }
      ]
    },
    {
      "cell_type": "code",
      "source": [
        "np.divide(a,b)  # or a/b"
      ],
      "metadata": {
        "colab": {
          "base_uri": "https://localhost:8080/"
        },
        "id": "KodWKhhft4ba",
        "outputId": "c7d33253-2582-42ad-c6e3-7e3104338762"
      },
      "execution_count": null,
      "outputs": [
        {
          "output_type": "execute_result",
          "data": {
            "text/plain": [
              "array([0.2       , 0.33333333, 0.42857143, 0.5       ])"
            ]
          },
          "metadata": {},
          "execution_count": 44
        }
      ]
    },
    {
      "cell_type": "code",
      "source": [
        "np.sqrt(a)"
      ],
      "metadata": {
        "colab": {
          "base_uri": "https://localhost:8080/"
        },
        "id": "uano1TIpuBIt",
        "outputId": "e9f0f043-36a7-452f-d21c-5e56a65fc100"
      },
      "execution_count": null,
      "outputs": [
        {
          "output_type": "execute_result",
          "data": {
            "text/plain": [
              "array([1.        , 1.41421356, 1.73205081, 2.        ])"
            ]
          },
          "metadata": {},
          "execution_count": 45
        }
      ]
    },
    {
      "cell_type": "code",
      "source": [
        "np.sqrt(b)"
      ],
      "metadata": {
        "colab": {
          "base_uri": "https://localhost:8080/"
        },
        "id": "nPvpF4piuRVd",
        "outputId": "c8dd1714-e0aa-4f46-8eda-83f59538e4f4"
      },
      "execution_count": null,
      "outputs": [
        {
          "output_type": "execute_result",
          "data": {
            "text/plain": [
              "array([2.23606798, 2.44948974, 2.64575131, 2.82842712])"
            ]
          },
          "metadata": {},
          "execution_count": 46
        }
      ]
    },
    {
      "cell_type": "markdown",
      "source": [
        "# Pseudo-Random Number Generation."
      ],
      "metadata": {
        "id": "dAdbZ9QeuZgE"
      }
    },
    {
      "cell_type": "code",
      "source": [
        "# In python we have a built-in module random.\n",
        "import random\n",
        "\n",
        "random.random()"
      ],
      "metadata": {
        "colab": {
          "base_uri": "https://localhost:8080/"
        },
        "id": "R97E7IXkuT2J",
        "outputId": "44f947fe-7e95-4561-9f21-1ebf4aba3be8"
      },
      "execution_count": null,
      "outputs": [
        {
          "output_type": "execute_result",
          "data": {
            "text/plain": [
              "0.7525797199284837"
            ]
          },
          "metadata": {},
          "execution_count": 49
        }
      ]
    },
    {
      "cell_type": "code",
      "source": [
        "random.seed(2)   # Same seed value will generate the same random no.\n",
        "random.random()"
      ],
      "metadata": {
        "colab": {
          "base_uri": "https://localhost:8080/"
        },
        "id": "EH2qfYNRvVo-",
        "outputId": "9d22634d-5572-458c-a076-092b65e06cd3"
      },
      "execution_count": null,
      "outputs": [
        {
          "output_type": "execute_result",
          "data": {
            "text/plain": [
              "0.9560342718892494"
            ]
          },
          "metadata": {},
          "execution_count": 52
        }
      ]
    },
    {
      "cell_type": "code",
      "source": [
        "np.random.random(2)\n",
        "np.random.random()"
      ],
      "metadata": {
        "colab": {
          "base_uri": "https://localhost:8080/"
        },
        "id": "rtjafTocydSy",
        "outputId": "0808f1af-d163-4460-f657-dded642b8dbe"
      },
      "execution_count": null,
      "outputs": [
        {
          "output_type": "execute_result",
          "data": {
            "text/plain": [
              "0.649611857520865"
            ]
          },
          "metadata": {},
          "execution_count": 63
        }
      ]
    }
  ]
}